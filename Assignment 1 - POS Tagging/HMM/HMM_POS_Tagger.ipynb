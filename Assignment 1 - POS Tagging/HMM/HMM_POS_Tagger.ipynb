{
  "nbformat": 4,
  "nbformat_minor": 0,
  "metadata": {
    "colab": {
      "name": "HMM_POS_Tagger.ipynb",
      "provenance": [],
      "collapsed_sections": []
    },
    "kernelspec": {
      "name": "python3",
      "display_name": "Python 3"
    },
    "widgets": {
      "application/vnd.jupyter.widget-state+json": {
        "1ebc3272dff04ca38b8bffb5e2856e4e": {
          "model_module": "@jupyter-widgets/controls",
          "model_name": "HBoxModel",
          "state": {
            "_view_name": "HBoxView",
            "_dom_classes": [],
            "_model_name": "HBoxModel",
            "_view_module": "@jupyter-widgets/controls",
            "_model_module_version": "1.5.0",
            "_view_count": null,
            "_view_module_version": "1.5.0",
            "box_style": "",
            "layout": "IPY_MODEL_24d0ea0f760d4eb3a21de6fc7676ed2f",
            "_model_module": "@jupyter-widgets/controls",
            "children": [
              "IPY_MODEL_67600c3afa4045a0ab8e1dc8826eb843",
              "IPY_MODEL_e0d2cc754aa3456cb183534f5030fd7d"
            ]
          }
        },
        "24d0ea0f760d4eb3a21de6fc7676ed2f": {
          "model_module": "@jupyter-widgets/base",
          "model_name": "LayoutModel",
          "state": {
            "_view_name": "LayoutView",
            "grid_template_rows": null,
            "right": null,
            "justify_content": null,
            "_view_module": "@jupyter-widgets/base",
            "overflow": null,
            "_model_module_version": "1.2.0",
            "_view_count": null,
            "flex_flow": null,
            "width": null,
            "min_width": null,
            "border": null,
            "align_items": null,
            "bottom": null,
            "_model_module": "@jupyter-widgets/base",
            "top": null,
            "grid_column": null,
            "overflow_y": null,
            "overflow_x": null,
            "grid_auto_flow": null,
            "grid_area": null,
            "grid_template_columns": null,
            "flex": null,
            "_model_name": "LayoutModel",
            "justify_items": null,
            "grid_row": null,
            "max_height": null,
            "align_content": null,
            "visibility": null,
            "align_self": null,
            "height": null,
            "min_height": null,
            "padding": null,
            "grid_auto_rows": null,
            "grid_gap": null,
            "max_width": null,
            "order": null,
            "_view_module_version": "1.2.0",
            "grid_template_areas": null,
            "object_position": null,
            "object_fit": null,
            "grid_auto_columns": null,
            "margin": null,
            "display": null,
            "left": null
          }
        },
        "67600c3afa4045a0ab8e1dc8826eb843": {
          "model_module": "@jupyter-widgets/controls",
          "model_name": "FloatProgressModel",
          "state": {
            "_view_name": "ProgressView",
            "style": "IPY_MODEL_3b49a7938bd4482bab101053a2d43682",
            "_dom_classes": [],
            "description": "100%",
            "_model_name": "FloatProgressModel",
            "bar_style": "success",
            "max": 11468,
            "_view_module": "@jupyter-widgets/controls",
            "_model_module_version": "1.5.0",
            "value": 11468,
            "_view_count": null,
            "_view_module_version": "1.5.0",
            "orientation": "horizontal",
            "min": 0,
            "description_tooltip": null,
            "_model_module": "@jupyter-widgets/controls",
            "layout": "IPY_MODEL_dbaaa45a835a4d87a4b5157ec14fa475"
          }
        },
        "e0d2cc754aa3456cb183534f5030fd7d": {
          "model_module": "@jupyter-widgets/controls",
          "model_name": "HTMLModel",
          "state": {
            "_view_name": "HTMLView",
            "style": "IPY_MODEL_f866bffb272a49bfae5f5f3f32b4e99c",
            "_dom_classes": [],
            "description": "",
            "_model_name": "HTMLModel",
            "placeholder": "​",
            "_view_module": "@jupyter-widgets/controls",
            "_model_module_version": "1.5.0",
            "value": " 11468/11468 [03:33&lt;00:00, 53.75it/s]",
            "_view_count": null,
            "_view_module_version": "1.5.0",
            "description_tooltip": null,
            "_model_module": "@jupyter-widgets/controls",
            "layout": "IPY_MODEL_1506b0a002994c4ea6a9674e574b74db"
          }
        },
        "3b49a7938bd4482bab101053a2d43682": {
          "model_module": "@jupyter-widgets/controls",
          "model_name": "ProgressStyleModel",
          "state": {
            "_view_name": "StyleView",
            "_model_name": "ProgressStyleModel",
            "description_width": "initial",
            "_view_module": "@jupyter-widgets/base",
            "_model_module_version": "1.5.0",
            "_view_count": null,
            "_view_module_version": "1.2.0",
            "bar_color": null,
            "_model_module": "@jupyter-widgets/controls"
          }
        },
        "dbaaa45a835a4d87a4b5157ec14fa475": {
          "model_module": "@jupyter-widgets/base",
          "model_name": "LayoutModel",
          "state": {
            "_view_name": "LayoutView",
            "grid_template_rows": null,
            "right": null,
            "justify_content": null,
            "_view_module": "@jupyter-widgets/base",
            "overflow": null,
            "_model_module_version": "1.2.0",
            "_view_count": null,
            "flex_flow": null,
            "width": null,
            "min_width": null,
            "border": null,
            "align_items": null,
            "bottom": null,
            "_model_module": "@jupyter-widgets/base",
            "top": null,
            "grid_column": null,
            "overflow_y": null,
            "overflow_x": null,
            "grid_auto_flow": null,
            "grid_area": null,
            "grid_template_columns": null,
            "flex": null,
            "_model_name": "LayoutModel",
            "justify_items": null,
            "grid_row": null,
            "max_height": null,
            "align_content": null,
            "visibility": null,
            "align_self": null,
            "height": null,
            "min_height": null,
            "padding": null,
            "grid_auto_rows": null,
            "grid_gap": null,
            "max_width": null,
            "order": null,
            "_view_module_version": "1.2.0",
            "grid_template_areas": null,
            "object_position": null,
            "object_fit": null,
            "grid_auto_columns": null,
            "margin": null,
            "display": null,
            "left": null
          }
        },
        "f866bffb272a49bfae5f5f3f32b4e99c": {
          "model_module": "@jupyter-widgets/controls",
          "model_name": "DescriptionStyleModel",
          "state": {
            "_view_name": "StyleView",
            "_model_name": "DescriptionStyleModel",
            "description_width": "",
            "_view_module": "@jupyter-widgets/base",
            "_model_module_version": "1.5.0",
            "_view_count": null,
            "_view_module_version": "1.2.0",
            "_model_module": "@jupyter-widgets/controls"
          }
        },
        "1506b0a002994c4ea6a9674e574b74db": {
          "model_module": "@jupyter-widgets/base",
          "model_name": "LayoutModel",
          "state": {
            "_view_name": "LayoutView",
            "grid_template_rows": null,
            "right": null,
            "justify_content": null,
            "_view_module": "@jupyter-widgets/base",
            "overflow": null,
            "_model_module_version": "1.2.0",
            "_view_count": null,
            "flex_flow": null,
            "width": null,
            "min_width": null,
            "border": null,
            "align_items": null,
            "bottom": null,
            "_model_module": "@jupyter-widgets/base",
            "top": null,
            "grid_column": null,
            "overflow_y": null,
            "overflow_x": null,
            "grid_auto_flow": null,
            "grid_area": null,
            "grid_template_columns": null,
            "flex": null,
            "_model_name": "LayoutModel",
            "justify_items": null,
            "grid_row": null,
            "max_height": null,
            "align_content": null,
            "visibility": null,
            "align_self": null,
            "height": null,
            "min_height": null,
            "padding": null,
            "grid_auto_rows": null,
            "grid_gap": null,
            "max_width": null,
            "order": null,
            "_view_module_version": "1.2.0",
            "grid_template_areas": null,
            "object_position": null,
            "object_fit": null,
            "grid_auto_columns": null,
            "margin": null,
            "display": null,
            "left": null
          }
        },
        "cf10e66d0d2b43e8962aabcc5843f6fb": {
          "model_module": "@jupyter-widgets/controls",
          "model_name": "HBoxModel",
          "state": {
            "_view_name": "HBoxView",
            "_dom_classes": [],
            "_model_name": "HBoxModel",
            "_view_module": "@jupyter-widgets/controls",
            "_model_module_version": "1.5.0",
            "_view_count": null,
            "_view_module_version": "1.5.0",
            "box_style": "",
            "layout": "IPY_MODEL_67dac671f659479f85c782d7e4420c93",
            "_model_module": "@jupyter-widgets/controls",
            "children": [
              "IPY_MODEL_162b906f9a1f460c997eb5d995fff698",
              "IPY_MODEL_cfd9507ce02b405fadd014fd3d19f112"
            ]
          }
        },
        "67dac671f659479f85c782d7e4420c93": {
          "model_module": "@jupyter-widgets/base",
          "model_name": "LayoutModel",
          "state": {
            "_view_name": "LayoutView",
            "grid_template_rows": null,
            "right": null,
            "justify_content": null,
            "_view_module": "@jupyter-widgets/base",
            "overflow": null,
            "_model_module_version": "1.2.0",
            "_view_count": null,
            "flex_flow": null,
            "width": null,
            "min_width": null,
            "border": null,
            "align_items": null,
            "bottom": null,
            "_model_module": "@jupyter-widgets/base",
            "top": null,
            "grid_column": null,
            "overflow_y": null,
            "overflow_x": null,
            "grid_auto_flow": null,
            "grid_area": null,
            "grid_template_columns": null,
            "flex": null,
            "_model_name": "LayoutModel",
            "justify_items": null,
            "grid_row": null,
            "max_height": null,
            "align_content": null,
            "visibility": null,
            "align_self": null,
            "height": null,
            "min_height": null,
            "padding": null,
            "grid_auto_rows": null,
            "grid_gap": null,
            "max_width": null,
            "order": null,
            "_view_module_version": "1.2.0",
            "grid_template_areas": null,
            "object_position": null,
            "object_fit": null,
            "grid_auto_columns": null,
            "margin": null,
            "display": null,
            "left": null
          }
        },
        "162b906f9a1f460c997eb5d995fff698": {
          "model_module": "@jupyter-widgets/controls",
          "model_name": "FloatProgressModel",
          "state": {
            "_view_name": "ProgressView",
            "style": "IPY_MODEL_7446c8e326b745f7b2153865aec48c4a",
            "_dom_classes": [],
            "description": "100%",
            "_model_name": "FloatProgressModel",
            "bar_style": "success",
            "max": 11468,
            "_view_module": "@jupyter-widgets/controls",
            "_model_module_version": "1.5.0",
            "value": 11468,
            "_view_count": null,
            "_view_module_version": "1.5.0",
            "orientation": "horizontal",
            "min": 0,
            "description_tooltip": null,
            "_model_module": "@jupyter-widgets/controls",
            "layout": "IPY_MODEL_94a5131527194fc4b2148c778323f61a"
          }
        },
        "cfd9507ce02b405fadd014fd3d19f112": {
          "model_module": "@jupyter-widgets/controls",
          "model_name": "HTMLModel",
          "state": {
            "_view_name": "HTMLView",
            "style": "IPY_MODEL_cc75fb8dd52b46959d976f13e635ff39",
            "_dom_classes": [],
            "description": "",
            "_model_name": "HTMLModel",
            "placeholder": "​",
            "_view_module": "@jupyter-widgets/controls",
            "_model_module_version": "1.5.0",
            "value": " 11468/11468 [07:25&lt;00:00, 25.75it/s]",
            "_view_count": null,
            "_view_module_version": "1.5.0",
            "description_tooltip": null,
            "_model_module": "@jupyter-widgets/controls",
            "layout": "IPY_MODEL_ced21467193e48f28e7dc9ce371e039a"
          }
        },
        "7446c8e326b745f7b2153865aec48c4a": {
          "model_module": "@jupyter-widgets/controls",
          "model_name": "ProgressStyleModel",
          "state": {
            "_view_name": "StyleView",
            "_model_name": "ProgressStyleModel",
            "description_width": "initial",
            "_view_module": "@jupyter-widgets/base",
            "_model_module_version": "1.5.0",
            "_view_count": null,
            "_view_module_version": "1.2.0",
            "bar_color": null,
            "_model_module": "@jupyter-widgets/controls"
          }
        },
        "94a5131527194fc4b2148c778323f61a": {
          "model_module": "@jupyter-widgets/base",
          "model_name": "LayoutModel",
          "state": {
            "_view_name": "LayoutView",
            "grid_template_rows": null,
            "right": null,
            "justify_content": null,
            "_view_module": "@jupyter-widgets/base",
            "overflow": null,
            "_model_module_version": "1.2.0",
            "_view_count": null,
            "flex_flow": null,
            "width": null,
            "min_width": null,
            "border": null,
            "align_items": null,
            "bottom": null,
            "_model_module": "@jupyter-widgets/base",
            "top": null,
            "grid_column": null,
            "overflow_y": null,
            "overflow_x": null,
            "grid_auto_flow": null,
            "grid_area": null,
            "grid_template_columns": null,
            "flex": null,
            "_model_name": "LayoutModel",
            "justify_items": null,
            "grid_row": null,
            "max_height": null,
            "align_content": null,
            "visibility": null,
            "align_self": null,
            "height": null,
            "min_height": null,
            "padding": null,
            "grid_auto_rows": null,
            "grid_gap": null,
            "max_width": null,
            "order": null,
            "_view_module_version": "1.2.0",
            "grid_template_areas": null,
            "object_position": null,
            "object_fit": null,
            "grid_auto_columns": null,
            "margin": null,
            "display": null,
            "left": null
          }
        },
        "cc75fb8dd52b46959d976f13e635ff39": {
          "model_module": "@jupyter-widgets/controls",
          "model_name": "DescriptionStyleModel",
          "state": {
            "_view_name": "StyleView",
            "_model_name": "DescriptionStyleModel",
            "description_width": "",
            "_view_module": "@jupyter-widgets/base",
            "_model_module_version": "1.5.0",
            "_view_count": null,
            "_view_module_version": "1.2.0",
            "_model_module": "@jupyter-widgets/controls"
          }
        },
        "ced21467193e48f28e7dc9ce371e039a": {
          "model_module": "@jupyter-widgets/base",
          "model_name": "LayoutModel",
          "state": {
            "_view_name": "LayoutView",
            "grid_template_rows": null,
            "right": null,
            "justify_content": null,
            "_view_module": "@jupyter-widgets/base",
            "overflow": null,
            "_model_module_version": "1.2.0",
            "_view_count": null,
            "flex_flow": null,
            "width": null,
            "min_width": null,
            "border": null,
            "align_items": null,
            "bottom": null,
            "_model_module": "@jupyter-widgets/base",
            "top": null,
            "grid_column": null,
            "overflow_y": null,
            "overflow_x": null,
            "grid_auto_flow": null,
            "grid_area": null,
            "grid_template_columns": null,
            "flex": null,
            "_model_name": "LayoutModel",
            "justify_items": null,
            "grid_row": null,
            "max_height": null,
            "align_content": null,
            "visibility": null,
            "align_self": null,
            "height": null,
            "min_height": null,
            "padding": null,
            "grid_auto_rows": null,
            "grid_gap": null,
            "max_width": null,
            "order": null,
            "_view_module_version": "1.2.0",
            "grid_template_areas": null,
            "object_position": null,
            "object_fit": null,
            "grid_auto_columns": null,
            "margin": null,
            "display": null,
            "left": null
          }
        },
        "f219939df6ee4a12b0d2b2277a67496f": {
          "model_module": "@jupyter-widgets/controls",
          "model_name": "HBoxModel",
          "state": {
            "_view_name": "HBoxView",
            "_dom_classes": [],
            "_model_name": "HBoxModel",
            "_view_module": "@jupyter-widgets/controls",
            "_model_module_version": "1.5.0",
            "_view_count": null,
            "_view_module_version": "1.5.0",
            "box_style": "",
            "layout": "IPY_MODEL_29465ffd14aa4c4baa991afe32129c5d",
            "_model_module": "@jupyter-widgets/controls",
            "children": [
              "IPY_MODEL_eb9435df0318438ebd80128583227e5e",
              "IPY_MODEL_7e8a34a0aa75431495ad4c5477717cc8"
            ]
          }
        },
        "29465ffd14aa4c4baa991afe32129c5d": {
          "model_module": "@jupyter-widgets/base",
          "model_name": "LayoutModel",
          "state": {
            "_view_name": "LayoutView",
            "grid_template_rows": null,
            "right": null,
            "justify_content": null,
            "_view_module": "@jupyter-widgets/base",
            "overflow": null,
            "_model_module_version": "1.2.0",
            "_view_count": null,
            "flex_flow": null,
            "width": null,
            "min_width": null,
            "border": null,
            "align_items": null,
            "bottom": null,
            "_model_module": "@jupyter-widgets/base",
            "top": null,
            "grid_column": null,
            "overflow_y": null,
            "overflow_x": null,
            "grid_auto_flow": null,
            "grid_area": null,
            "grid_template_columns": null,
            "flex": null,
            "_model_name": "LayoutModel",
            "justify_items": null,
            "grid_row": null,
            "max_height": null,
            "align_content": null,
            "visibility": null,
            "align_self": null,
            "height": null,
            "min_height": null,
            "padding": null,
            "grid_auto_rows": null,
            "grid_gap": null,
            "max_width": null,
            "order": null,
            "_view_module_version": "1.2.0",
            "grid_template_areas": null,
            "object_position": null,
            "object_fit": null,
            "grid_auto_columns": null,
            "margin": null,
            "display": null,
            "left": null
          }
        },
        "eb9435df0318438ebd80128583227e5e": {
          "model_module": "@jupyter-widgets/controls",
          "model_name": "FloatProgressModel",
          "state": {
            "_view_name": "ProgressView",
            "style": "IPY_MODEL_1ccb3b9bec0f40baabe9004e2e316958",
            "_dom_classes": [],
            "description": "100%",
            "_model_name": "FloatProgressModel",
            "bar_style": "success",
            "max": 11468,
            "_view_module": "@jupyter-widgets/controls",
            "_model_module_version": "1.5.0",
            "value": 11468,
            "_view_count": null,
            "_view_module_version": "1.5.0",
            "orientation": "horizontal",
            "min": 0,
            "description_tooltip": null,
            "_model_module": "@jupyter-widgets/controls",
            "layout": "IPY_MODEL_2ad924f417834d7e8e99ee585c5585fc"
          }
        },
        "7e8a34a0aa75431495ad4c5477717cc8": {
          "model_module": "@jupyter-widgets/controls",
          "model_name": "HTMLModel",
          "state": {
            "_view_name": "HTMLView",
            "style": "IPY_MODEL_8ff278b7848046d3bd2d6a6d1ef100d9",
            "_dom_classes": [],
            "description": "",
            "_model_name": "HTMLModel",
            "placeholder": "​",
            "_view_module": "@jupyter-widgets/controls",
            "_model_module_version": "1.5.0",
            "value": " 11468/11468 [05:38&lt;00:00, 33.86it/s]",
            "_view_count": null,
            "_view_module_version": "1.5.0",
            "description_tooltip": null,
            "_model_module": "@jupyter-widgets/controls",
            "layout": "IPY_MODEL_5d7a446e692d4ff4a8b6fc4788b2c260"
          }
        },
        "1ccb3b9bec0f40baabe9004e2e316958": {
          "model_module": "@jupyter-widgets/controls",
          "model_name": "ProgressStyleModel",
          "state": {
            "_view_name": "StyleView",
            "_model_name": "ProgressStyleModel",
            "description_width": "initial",
            "_view_module": "@jupyter-widgets/base",
            "_model_module_version": "1.5.0",
            "_view_count": null,
            "_view_module_version": "1.2.0",
            "bar_color": null,
            "_model_module": "@jupyter-widgets/controls"
          }
        },
        "2ad924f417834d7e8e99ee585c5585fc": {
          "model_module": "@jupyter-widgets/base",
          "model_name": "LayoutModel",
          "state": {
            "_view_name": "LayoutView",
            "grid_template_rows": null,
            "right": null,
            "justify_content": null,
            "_view_module": "@jupyter-widgets/base",
            "overflow": null,
            "_model_module_version": "1.2.0",
            "_view_count": null,
            "flex_flow": null,
            "width": null,
            "min_width": null,
            "border": null,
            "align_items": null,
            "bottom": null,
            "_model_module": "@jupyter-widgets/base",
            "top": null,
            "grid_column": null,
            "overflow_y": null,
            "overflow_x": null,
            "grid_auto_flow": null,
            "grid_area": null,
            "grid_template_columns": null,
            "flex": null,
            "_model_name": "LayoutModel",
            "justify_items": null,
            "grid_row": null,
            "max_height": null,
            "align_content": null,
            "visibility": null,
            "align_self": null,
            "height": null,
            "min_height": null,
            "padding": null,
            "grid_auto_rows": null,
            "grid_gap": null,
            "max_width": null,
            "order": null,
            "_view_module_version": "1.2.0",
            "grid_template_areas": null,
            "object_position": null,
            "object_fit": null,
            "grid_auto_columns": null,
            "margin": null,
            "display": null,
            "left": null
          }
        },
        "8ff278b7848046d3bd2d6a6d1ef100d9": {
          "model_module": "@jupyter-widgets/controls",
          "model_name": "DescriptionStyleModel",
          "state": {
            "_view_name": "StyleView",
            "_model_name": "DescriptionStyleModel",
            "description_width": "",
            "_view_module": "@jupyter-widgets/base",
            "_model_module_version": "1.5.0",
            "_view_count": null,
            "_view_module_version": "1.2.0",
            "_model_module": "@jupyter-widgets/controls"
          }
        },
        "5d7a446e692d4ff4a8b6fc4788b2c260": {
          "model_module": "@jupyter-widgets/base",
          "model_name": "LayoutModel",
          "state": {
            "_view_name": "LayoutView",
            "grid_template_rows": null,
            "right": null,
            "justify_content": null,
            "_view_module": "@jupyter-widgets/base",
            "overflow": null,
            "_model_module_version": "1.2.0",
            "_view_count": null,
            "flex_flow": null,
            "width": null,
            "min_width": null,
            "border": null,
            "align_items": null,
            "bottom": null,
            "_model_module": "@jupyter-widgets/base",
            "top": null,
            "grid_column": null,
            "overflow_y": null,
            "overflow_x": null,
            "grid_auto_flow": null,
            "grid_area": null,
            "grid_template_columns": null,
            "flex": null,
            "_model_name": "LayoutModel",
            "justify_items": null,
            "grid_row": null,
            "max_height": null,
            "align_content": null,
            "visibility": null,
            "align_self": null,
            "height": null,
            "min_height": null,
            "padding": null,
            "grid_auto_rows": null,
            "grid_gap": null,
            "max_width": null,
            "order": null,
            "_view_module_version": "1.2.0",
            "grid_template_areas": null,
            "object_position": null,
            "object_fit": null,
            "grid_auto_columns": null,
            "margin": null,
            "display": null,
            "left": null
          }
        },
        "8f5cb200d1a84248b90132149bba6564": {
          "model_module": "@jupyter-widgets/controls",
          "model_name": "HBoxModel",
          "state": {
            "_view_name": "HBoxView",
            "_dom_classes": [],
            "_model_name": "HBoxModel",
            "_view_module": "@jupyter-widgets/controls",
            "_model_module_version": "1.5.0",
            "_view_count": null,
            "_view_module_version": "1.5.0",
            "box_style": "",
            "layout": "IPY_MODEL_8392ac86676c47fab5da7a79cfcacb4f",
            "_model_module": "@jupyter-widgets/controls",
            "children": [
              "IPY_MODEL_110e1b32766447ef85868846ab69eaa0",
              "IPY_MODEL_02193012d9454f1f8b3a3ef59db7556a"
            ]
          }
        },
        "8392ac86676c47fab5da7a79cfcacb4f": {
          "model_module": "@jupyter-widgets/base",
          "model_name": "LayoutModel",
          "state": {
            "_view_name": "LayoutView",
            "grid_template_rows": null,
            "right": null,
            "justify_content": null,
            "_view_module": "@jupyter-widgets/base",
            "overflow": null,
            "_model_module_version": "1.2.0",
            "_view_count": null,
            "flex_flow": null,
            "width": null,
            "min_width": null,
            "border": null,
            "align_items": null,
            "bottom": null,
            "_model_module": "@jupyter-widgets/base",
            "top": null,
            "grid_column": null,
            "overflow_y": null,
            "overflow_x": null,
            "grid_auto_flow": null,
            "grid_area": null,
            "grid_template_columns": null,
            "flex": null,
            "_model_name": "LayoutModel",
            "justify_items": null,
            "grid_row": null,
            "max_height": null,
            "align_content": null,
            "visibility": null,
            "align_self": null,
            "height": null,
            "min_height": null,
            "padding": null,
            "grid_auto_rows": null,
            "grid_gap": null,
            "max_width": null,
            "order": null,
            "_view_module_version": "1.2.0",
            "grid_template_areas": null,
            "object_position": null,
            "object_fit": null,
            "grid_auto_columns": null,
            "margin": null,
            "display": null,
            "left": null
          }
        },
        "110e1b32766447ef85868846ab69eaa0": {
          "model_module": "@jupyter-widgets/controls",
          "model_name": "FloatProgressModel",
          "state": {
            "_view_name": "ProgressView",
            "style": "IPY_MODEL_1bb2a07a56244e908ac8bca6d3af9478",
            "_dom_classes": [],
            "description": "100%",
            "_model_name": "FloatProgressModel",
            "bar_style": "success",
            "max": 11468,
            "_view_module": "@jupyter-widgets/controls",
            "_model_module_version": "1.5.0",
            "value": 11468,
            "_view_count": null,
            "_view_module_version": "1.5.0",
            "orientation": "horizontal",
            "min": 0,
            "description_tooltip": null,
            "_model_module": "@jupyter-widgets/controls",
            "layout": "IPY_MODEL_720f99c3a3fe41d1a0d1980d6b512c61"
          }
        },
        "02193012d9454f1f8b3a3ef59db7556a": {
          "model_module": "@jupyter-widgets/controls",
          "model_name": "HTMLModel",
          "state": {
            "_view_name": "HTMLView",
            "style": "IPY_MODEL_4ed5d39a6c6c44f0b621a2af4450b2d0",
            "_dom_classes": [],
            "description": "",
            "_model_name": "HTMLModel",
            "placeholder": "​",
            "_view_module": "@jupyter-widgets/controls",
            "_model_module_version": "1.5.0",
            "value": " 11468/11468 [03:52&lt;00:00, 49.43it/s]",
            "_view_count": null,
            "_view_module_version": "1.5.0",
            "description_tooltip": null,
            "_model_module": "@jupyter-widgets/controls",
            "layout": "IPY_MODEL_519eff19465e48168fd2e873fd2e729d"
          }
        },
        "1bb2a07a56244e908ac8bca6d3af9478": {
          "model_module": "@jupyter-widgets/controls",
          "model_name": "ProgressStyleModel",
          "state": {
            "_view_name": "StyleView",
            "_model_name": "ProgressStyleModel",
            "description_width": "initial",
            "_view_module": "@jupyter-widgets/base",
            "_model_module_version": "1.5.0",
            "_view_count": null,
            "_view_module_version": "1.2.0",
            "bar_color": null,
            "_model_module": "@jupyter-widgets/controls"
          }
        },
        "720f99c3a3fe41d1a0d1980d6b512c61": {
          "model_module": "@jupyter-widgets/base",
          "model_name": "LayoutModel",
          "state": {
            "_view_name": "LayoutView",
            "grid_template_rows": null,
            "right": null,
            "justify_content": null,
            "_view_module": "@jupyter-widgets/base",
            "overflow": null,
            "_model_module_version": "1.2.0",
            "_view_count": null,
            "flex_flow": null,
            "width": null,
            "min_width": null,
            "border": null,
            "align_items": null,
            "bottom": null,
            "_model_module": "@jupyter-widgets/base",
            "top": null,
            "grid_column": null,
            "overflow_y": null,
            "overflow_x": null,
            "grid_auto_flow": null,
            "grid_area": null,
            "grid_template_columns": null,
            "flex": null,
            "_model_name": "LayoutModel",
            "justify_items": null,
            "grid_row": null,
            "max_height": null,
            "align_content": null,
            "visibility": null,
            "align_self": null,
            "height": null,
            "min_height": null,
            "padding": null,
            "grid_auto_rows": null,
            "grid_gap": null,
            "max_width": null,
            "order": null,
            "_view_module_version": "1.2.0",
            "grid_template_areas": null,
            "object_position": null,
            "object_fit": null,
            "grid_auto_columns": null,
            "margin": null,
            "display": null,
            "left": null
          }
        },
        "4ed5d39a6c6c44f0b621a2af4450b2d0": {
          "model_module": "@jupyter-widgets/controls",
          "model_name": "DescriptionStyleModel",
          "state": {
            "_view_name": "StyleView",
            "_model_name": "DescriptionStyleModel",
            "description_width": "",
            "_view_module": "@jupyter-widgets/base",
            "_model_module_version": "1.5.0",
            "_view_count": null,
            "_view_module_version": "1.2.0",
            "_model_module": "@jupyter-widgets/controls"
          }
        },
        "519eff19465e48168fd2e873fd2e729d": {
          "model_module": "@jupyter-widgets/base",
          "model_name": "LayoutModel",
          "state": {
            "_view_name": "LayoutView",
            "grid_template_rows": null,
            "right": null,
            "justify_content": null,
            "_view_module": "@jupyter-widgets/base",
            "overflow": null,
            "_model_module_version": "1.2.0",
            "_view_count": null,
            "flex_flow": null,
            "width": null,
            "min_width": null,
            "border": null,
            "align_items": null,
            "bottom": null,
            "_model_module": "@jupyter-widgets/base",
            "top": null,
            "grid_column": null,
            "overflow_y": null,
            "overflow_x": null,
            "grid_auto_flow": null,
            "grid_area": null,
            "grid_template_columns": null,
            "flex": null,
            "_model_name": "LayoutModel",
            "justify_items": null,
            "grid_row": null,
            "max_height": null,
            "align_content": null,
            "visibility": null,
            "align_self": null,
            "height": null,
            "min_height": null,
            "padding": null,
            "grid_auto_rows": null,
            "grid_gap": null,
            "max_width": null,
            "order": null,
            "_view_module_version": "1.2.0",
            "grid_template_areas": null,
            "object_position": null,
            "object_fit": null,
            "grid_auto_columns": null,
            "margin": null,
            "display": null,
            "left": null
          }
        },
        "ab0cfa564c174bbca4a59d03573e4aa3": {
          "model_module": "@jupyter-widgets/controls",
          "model_name": "HBoxModel",
          "state": {
            "_view_name": "HBoxView",
            "_dom_classes": [],
            "_model_name": "HBoxModel",
            "_view_module": "@jupyter-widgets/controls",
            "_model_module_version": "1.5.0",
            "_view_count": null,
            "_view_module_version": "1.5.0",
            "box_style": "",
            "layout": "IPY_MODEL_cdf8c2dffe3a49a3a08a1d1992e7db32",
            "_model_module": "@jupyter-widgets/controls",
            "children": [
              "IPY_MODEL_5d7458968f9f448295bdd385397d7ed5",
              "IPY_MODEL_76a7d4eb8dda4a2baa8847ac9e085d19"
            ]
          }
        },
        "cdf8c2dffe3a49a3a08a1d1992e7db32": {
          "model_module": "@jupyter-widgets/base",
          "model_name": "LayoutModel",
          "state": {
            "_view_name": "LayoutView",
            "grid_template_rows": null,
            "right": null,
            "justify_content": null,
            "_view_module": "@jupyter-widgets/base",
            "overflow": null,
            "_model_module_version": "1.2.0",
            "_view_count": null,
            "flex_flow": null,
            "width": null,
            "min_width": null,
            "border": null,
            "align_items": null,
            "bottom": null,
            "_model_module": "@jupyter-widgets/base",
            "top": null,
            "grid_column": null,
            "overflow_y": null,
            "overflow_x": null,
            "grid_auto_flow": null,
            "grid_area": null,
            "grid_template_columns": null,
            "flex": null,
            "_model_name": "LayoutModel",
            "justify_items": null,
            "grid_row": null,
            "max_height": null,
            "align_content": null,
            "visibility": null,
            "align_self": null,
            "height": null,
            "min_height": null,
            "padding": null,
            "grid_auto_rows": null,
            "grid_gap": null,
            "max_width": null,
            "order": null,
            "_view_module_version": "1.2.0",
            "grid_template_areas": null,
            "object_position": null,
            "object_fit": null,
            "grid_auto_columns": null,
            "margin": null,
            "display": null,
            "left": null
          }
        },
        "5d7458968f9f448295bdd385397d7ed5": {
          "model_module": "@jupyter-widgets/controls",
          "model_name": "FloatProgressModel",
          "state": {
            "_view_name": "ProgressView",
            "style": "IPY_MODEL_0a1081ae430b4b62bb797b8d79edbc0c",
            "_dom_classes": [],
            "description": "100%",
            "_model_name": "FloatProgressModel",
            "bar_style": "success",
            "max": 11468,
            "_view_module": "@jupyter-widgets/controls",
            "_model_module_version": "1.5.0",
            "value": 11468,
            "_view_count": null,
            "_view_module_version": "1.5.0",
            "orientation": "horizontal",
            "min": 0,
            "description_tooltip": null,
            "_model_module": "@jupyter-widgets/controls",
            "layout": "IPY_MODEL_0021b58375254970a36d1316679b3b04"
          }
        },
        "76a7d4eb8dda4a2baa8847ac9e085d19": {
          "model_module": "@jupyter-widgets/controls",
          "model_name": "HTMLModel",
          "state": {
            "_view_name": "HTMLView",
            "style": "IPY_MODEL_13c5f184b1e04ddfaf181783040f040a",
            "_dom_classes": [],
            "description": "",
            "_model_name": "HTMLModel",
            "placeholder": "​",
            "_view_module": "@jupyter-widgets/controls",
            "_model_module_version": "1.5.0",
            "value": " 11468/11468 [02:03&lt;00:00, 92.90it/s]",
            "_view_count": null,
            "_view_module_version": "1.5.0",
            "description_tooltip": null,
            "_model_module": "@jupyter-widgets/controls",
            "layout": "IPY_MODEL_ddc91999372a4d2cbf833c64ea5b9387"
          }
        },
        "0a1081ae430b4b62bb797b8d79edbc0c": {
          "model_module": "@jupyter-widgets/controls",
          "model_name": "ProgressStyleModel",
          "state": {
            "_view_name": "StyleView",
            "_model_name": "ProgressStyleModel",
            "description_width": "initial",
            "_view_module": "@jupyter-widgets/base",
            "_model_module_version": "1.5.0",
            "_view_count": null,
            "_view_module_version": "1.2.0",
            "bar_color": null,
            "_model_module": "@jupyter-widgets/controls"
          }
        },
        "0021b58375254970a36d1316679b3b04": {
          "model_module": "@jupyter-widgets/base",
          "model_name": "LayoutModel",
          "state": {
            "_view_name": "LayoutView",
            "grid_template_rows": null,
            "right": null,
            "justify_content": null,
            "_view_module": "@jupyter-widgets/base",
            "overflow": null,
            "_model_module_version": "1.2.0",
            "_view_count": null,
            "flex_flow": null,
            "width": null,
            "min_width": null,
            "border": null,
            "align_items": null,
            "bottom": null,
            "_model_module": "@jupyter-widgets/base",
            "top": null,
            "grid_column": null,
            "overflow_y": null,
            "overflow_x": null,
            "grid_auto_flow": null,
            "grid_area": null,
            "grid_template_columns": null,
            "flex": null,
            "_model_name": "LayoutModel",
            "justify_items": null,
            "grid_row": null,
            "max_height": null,
            "align_content": null,
            "visibility": null,
            "align_self": null,
            "height": null,
            "min_height": null,
            "padding": null,
            "grid_auto_rows": null,
            "grid_gap": null,
            "max_width": null,
            "order": null,
            "_view_module_version": "1.2.0",
            "grid_template_areas": null,
            "object_position": null,
            "object_fit": null,
            "grid_auto_columns": null,
            "margin": null,
            "display": null,
            "left": null
          }
        },
        "13c5f184b1e04ddfaf181783040f040a": {
          "model_module": "@jupyter-widgets/controls",
          "model_name": "DescriptionStyleModel",
          "state": {
            "_view_name": "StyleView",
            "_model_name": "DescriptionStyleModel",
            "description_width": "",
            "_view_module": "@jupyter-widgets/base",
            "_model_module_version": "1.5.0",
            "_view_count": null,
            "_view_module_version": "1.2.0",
            "_model_module": "@jupyter-widgets/controls"
          }
        },
        "ddc91999372a4d2cbf833c64ea5b9387": {
          "model_module": "@jupyter-widgets/base",
          "model_name": "LayoutModel",
          "state": {
            "_view_name": "LayoutView",
            "grid_template_rows": null,
            "right": null,
            "justify_content": null,
            "_view_module": "@jupyter-widgets/base",
            "overflow": null,
            "_model_module_version": "1.2.0",
            "_view_count": null,
            "flex_flow": null,
            "width": null,
            "min_width": null,
            "border": null,
            "align_items": null,
            "bottom": null,
            "_model_module": "@jupyter-widgets/base",
            "top": null,
            "grid_column": null,
            "overflow_y": null,
            "overflow_x": null,
            "grid_auto_flow": null,
            "grid_area": null,
            "grid_template_columns": null,
            "flex": null,
            "_model_name": "LayoutModel",
            "justify_items": null,
            "grid_row": null,
            "max_height": null,
            "align_content": null,
            "visibility": null,
            "align_self": null,
            "height": null,
            "min_height": null,
            "padding": null,
            "grid_auto_rows": null,
            "grid_gap": null,
            "max_width": null,
            "order": null,
            "_view_module_version": "1.2.0",
            "grid_template_areas": null,
            "object_position": null,
            "object_fit": null,
            "grid_auto_columns": null,
            "margin": null,
            "display": null,
            "left": null
          }
        }
      }
    }
  },
  "cells": [
    {
      "cell_type": "code",
      "metadata": {
        "id": "WVGDMVCe2kmX",
        "colab_type": "code",
        "colab": {
          "base_uri": "https://localhost:8080/",
          "height": 104
        },
        "outputId": "fea66933-5680-4f9f-fbb6-6d5210de037a"
      },
      "source": [
        "import nltk \n",
        "from collections import defaultdict, Counter\n",
        "from time import time\n",
        "from sklearn.model_selection import KFold\n",
        "from sklearn import metrics\n",
        "from sklearn.metrics import confusion_matrix\n",
        "from sklearn.metrics import classification_report\n",
        "from matplotlib import pyplot as plt\n",
        "from tqdm.notebook import tqdm\n",
        "import numpy as np\n",
        "import math\n",
        "\n",
        "nltk.download('brown')\n",
        "nltk.download('universal_tagset')"
      ],
      "execution_count": 46,
      "outputs": [
        {
          "output_type": "stream",
          "text": [
            "[nltk_data] Downloading package brown to /root/nltk_data...\n",
            "[nltk_data]   Package brown is already up-to-date!\n",
            "[nltk_data] Downloading package universal_tagset to /root/nltk_data...\n",
            "[nltk_data]   Package universal_tagset is already up-to-date!\n"
          ],
          "name": "stdout"
        },
        {
          "output_type": "execute_result",
          "data": {
            "text/plain": [
              "True"
            ]
          },
          "metadata": {
            "tags": []
          },
          "execution_count": 46
        }
      ]
    },
    {
      "cell_type": "code",
      "metadata": {
        "id": "FAIr0WFK83bA",
        "colab_type": "code",
        "colab": {
          "base_uri": "https://localhost:8080/",
          "height": 54
        },
        "outputId": "ee76ae03-9543-4956-a816-703337147f49"
      },
      "source": [
        "start_token, end_token = '^', '$'\n",
        "tagged_sents = nltk.corpus.brown.tagged_sents(tagset='universal')\n",
        "tagged_sents = [[(start_token, start_token)] + [(y[0].lower(), y[1]) for y in x] + [(end_token, end_token)] for x in tagged_sents]\n",
        "print(tagged_sents[0])"
      ],
      "execution_count": 47,
      "outputs": [
        {
          "output_type": "stream",
          "text": [
            "[('^', '^'), ('the', 'DET'), ('fulton', 'NOUN'), ('county', 'NOUN'), ('grand', 'ADJ'), ('jury', 'NOUN'), ('said', 'VERB'), ('friday', 'NOUN'), ('an', 'DET'), ('investigation', 'NOUN'), ('of', 'ADP'), (\"atlanta's\", 'NOUN'), ('recent', 'ADJ'), ('primary', 'NOUN'), ('election', 'NOUN'), ('produced', 'VERB'), ('``', '.'), ('no', 'DET'), ('evidence', 'NOUN'), (\"''\", '.'), ('that', 'ADP'), ('any', 'DET'), ('irregularities', 'NOUN'), ('took', 'VERB'), ('place', 'NOUN'), ('.', '.'), ('$', '$')]\n"
          ],
          "name": "stdout"
        }
      ]
    },
    {
      "cell_type": "code",
      "metadata": {
        "id": "eOAnNX6Hf8F8",
        "colab_type": "code",
        "colab": {}
      },
      "source": [
        "class HMM_POSTagger():\n",
        "    def __init__(self):\n",
        "        self.pos_counts = None\n",
        "        self.word_tags = None\n",
        "        self.trans_count = None\n",
        "\n",
        "    def train(self, tagged_sents):\n",
        "        all_tuples = [tup for sent in tagged_sents for tup in sent]\n",
        "        self.pos_counts = Counter(pos for _, pos in all_tuples)\n",
        "        self.word_tags = defaultdict(Counter)\n",
        "        for word, pos in all_tuples:\n",
        "            self.word_tags[word][pos] += 1\n",
        "        self.trans_count = defaultdict(Counter)\n",
        "        for sent in tagged_sents:\n",
        "            for i in range(len(sent) - 1):\n",
        "                self.trans_count[sent[i][1]][sent[i + 1][1]] += 1\n",
        "\n",
        "    def eprob(self, tag, word):\n",
        "        num = self.word_tags[word][tag]\n",
        "        tot = self.pos_counts[tag]\n",
        "        prob = (num + 1) / (tot + 1 + len(self.word_tags))\n",
        "        return prob\n",
        "\n",
        "    def tprob(self, tag1, tag2):\n",
        "        num = self.trans_count[tag1][tag2]\n",
        "        tot = self.pos_counts[tag1]\n",
        "        prob = (num + 1) / (tot + len(self.pos_counts))\n",
        "        return prob\n",
        "\n",
        "    def viterbi(self, untagged_sent):\n",
        "        t = len(untagged_sent)\n",
        "        seq_sc = defaultdict(Counter)\n",
        "        for tag in self.pos_counts:\n",
        "            seq_sc[0][tag] = 0.0\n",
        "        seq_sc[0][start_token] = 0.0\n",
        "        \n",
        "        bacptr = defaultdict(Counter)\n",
        "        bacptr[0][start_token] = 0\n",
        "\n",
        "        for i in range(1, t - 1):\n",
        "            word = untagged_sent[i]\n",
        "            for tag in self.pos_counts:\n",
        "                seq_sc[1][tag] = 1.0\n",
        "                for prev_tag in self.pos_counts:\n",
        "                    state_prob = math.log(self.eprob(tag, word)) + math.log(self.tprob(prev_tag, tag)) + seq_sc[0][prev_tag]\n",
        "                    if seq_sc[1][tag]==1.0:\n",
        "                        seq_sc[1][tag] = state_prob\n",
        "                        bacptr[i][tag] = prev_tag\n",
        "                    elif seq_sc[1][tag] < state_prob:\n",
        "                        seq_sc[1][tag] = state_prob\n",
        "                        bacptr[i][tag] = prev_tag\n",
        "            for tag in self.pos_counts:\n",
        "                seq_sc[0][tag] = seq_sc[1][tag]\n",
        "    \n",
        "        tags = [end_token for i in range(t)]\n",
        "        for tag in self.pos_counts:\n",
        "            if seq_sc[1][tag] > seq_sc[1][tags[t - 2]]:\n",
        "                tags[t - 2] = tag\n",
        "        for i in range(t - 3, 0, -1):\n",
        "            tags[i] = bacptr[i + 1][tags[i + 1]]\n",
        "        tags[0] = start_token\n",
        "        return tags\n"
      ],
      "execution_count": 48,
      "outputs": []
    },
    {
      "cell_type": "code",
      "metadata": {
        "id": "-_7QY1i4ndwr",
        "colab_type": "code",
        "colab": {}
      },
      "source": [
        "kfold = KFold(n_splits=5, shuffle=True, random_state=1)\n",
        "tagged_sents = np.array(tagged_sents)\n",
        "y_preds = []\n",
        "y_trues = []\n",
        "hmm_models = []"
      ],
      "execution_count": 49,
      "outputs": []
    },
    {
      "cell_type": "code",
      "metadata": {
        "id": "w_JMEEPKntDR",
        "colab_type": "code",
        "colab": {
          "base_uri": "https://localhost:8080/",
          "height": 351,
          "referenced_widgets": [
            "1ebc3272dff04ca38b8bffb5e2856e4e",
            "24d0ea0f760d4eb3a21de6fc7676ed2f",
            "67600c3afa4045a0ab8e1dc8826eb843",
            "e0d2cc754aa3456cb183534f5030fd7d",
            "3b49a7938bd4482bab101053a2d43682",
            "dbaaa45a835a4d87a4b5157ec14fa475",
            "f866bffb272a49bfae5f5f3f32b4e99c",
            "1506b0a002994c4ea6a9674e574b74db",
            "cf10e66d0d2b43e8962aabcc5843f6fb",
            "67dac671f659479f85c782d7e4420c93",
            "162b906f9a1f460c997eb5d995fff698",
            "cfd9507ce02b405fadd014fd3d19f112",
            "7446c8e326b745f7b2153865aec48c4a",
            "94a5131527194fc4b2148c778323f61a",
            "cc75fb8dd52b46959d976f13e635ff39",
            "ced21467193e48f28e7dc9ce371e039a",
            "f219939df6ee4a12b0d2b2277a67496f",
            "29465ffd14aa4c4baa991afe32129c5d",
            "eb9435df0318438ebd80128583227e5e",
            "7e8a34a0aa75431495ad4c5477717cc8",
            "1ccb3b9bec0f40baabe9004e2e316958",
            "2ad924f417834d7e8e99ee585c5585fc",
            "8ff278b7848046d3bd2d6a6d1ef100d9",
            "5d7a446e692d4ff4a8b6fc4788b2c260",
            "8f5cb200d1a84248b90132149bba6564",
            "8392ac86676c47fab5da7a79cfcacb4f",
            "110e1b32766447ef85868846ab69eaa0",
            "02193012d9454f1f8b3a3ef59db7556a",
            "1bb2a07a56244e908ac8bca6d3af9478",
            "720f99c3a3fe41d1a0d1980d6b512c61",
            "4ed5d39a6c6c44f0b621a2af4450b2d0",
            "519eff19465e48168fd2e873fd2e729d",
            "ab0cfa564c174bbca4a59d03573e4aa3",
            "cdf8c2dffe3a49a3a08a1d1992e7db32",
            "5d7458968f9f448295bdd385397d7ed5",
            "76a7d4eb8dda4a2baa8847ac9e085d19",
            "0a1081ae430b4b62bb797b8d79edbc0c",
            "0021b58375254970a36d1316679b3b04",
            "13c5f184b1e04ddfaf181783040f040a",
            "ddc91999372a4d2cbf833c64ea5b9387"
          ]
        },
        "outputId": "e9e230ed-2a9e-44e0-eee7-e5d4aeb33024"
      },
      "source": [
        "for fold, (train, test) in enumerate(kfold.split(tagged_sents)):\n",
        "    train_sents = tagged_sents[train]\n",
        "    test_sents = tagged_sents[test]\n",
        "    hmm_models.append(HMM_POSTagger())\n",
        "    hmm_models[-1].train(train_sents)\n",
        "    y_pred, y_true = [], []\n",
        "    # miswords = []\n",
        "    # mistags = []\n",
        "    for sent in tqdm(test_sents):\n",
        "        untagged_sent = [word for word, tag in sent]\n",
        "        pred = hmm_models[-1].viterbi(untagged_sent)\n",
        "        for i in range(1, len(pred)-1):\n",
        "            y_pred.append(pred[i])\n",
        "            y_true.append(sent[i][1])\n",
        "            # if pred[i]!=sent[i][1]:\n",
        "            #     #miswords.append(untagged_sent[max(0,i-1):i+2])\n",
        "            #     miswords.append(sent[max(0,i-1):i+2])\n",
        "            #     mistags.append(pred[i])\n",
        "    y_preds.append(np.array(y_pred))\n",
        "    y_trues.append(np.array(y_true))\n",
        "    # for i in range(100):\n",
        "    #   print(miswords[i])\n",
        "    #   print(mistags[i])\n",
        "    # print(len(miswords))\n",
        "    # print(len(mistags))\n",
        "    acc = np.sum(y_trues[-1] == y_preds[-1]) / len(y_trues[-1])\n",
        "    print(f'Fold {fold + 1} Accuracy : {acc}')"
      ],
      "execution_count": 50,
      "outputs": [
        {
          "output_type": "display_data",
          "data": {
            "application/vnd.jupyter.widget-view+json": {
              "model_id": "1ebc3272dff04ca38b8bffb5e2856e4e",
              "version_minor": 0,
              "version_major": 2
            },
            "text/plain": [
              "HBox(children=(FloatProgress(value=0.0, max=11468.0), HTML(value='')))"
            ]
          },
          "metadata": {
            "tags": []
          }
        },
        {
          "output_type": "stream",
          "text": [
            "\n",
            "Fold 1 Accuracy : 0.938566714422775\n"
          ],
          "name": "stdout"
        },
        {
          "output_type": "display_data",
          "data": {
            "application/vnd.jupyter.widget-view+json": {
              "model_id": "cf10e66d0d2b43e8962aabcc5843f6fb",
              "version_minor": 0,
              "version_major": 2
            },
            "text/plain": [
              "HBox(children=(FloatProgress(value=0.0, max=11468.0), HTML(value='')))"
            ]
          },
          "metadata": {
            "tags": []
          }
        },
        {
          "output_type": "stream",
          "text": [
            "\n",
            "Fold 2 Accuracy : 0.9385636083634936\n"
          ],
          "name": "stdout"
        },
        {
          "output_type": "display_data",
          "data": {
            "application/vnd.jupyter.widget-view+json": {
              "model_id": "f219939df6ee4a12b0d2b2277a67496f",
              "version_minor": 0,
              "version_major": 2
            },
            "text/plain": [
              "HBox(children=(FloatProgress(value=0.0, max=11468.0), HTML(value='')))"
            ]
          },
          "metadata": {
            "tags": []
          }
        },
        {
          "output_type": "stream",
          "text": [
            "\n",
            "Fold 3 Accuracy : 0.9381359031168663\n"
          ],
          "name": "stdout"
        },
        {
          "output_type": "display_data",
          "data": {
            "application/vnd.jupyter.widget-view+json": {
              "model_id": "8f5cb200d1a84248b90132149bba6564",
              "version_minor": 0,
              "version_major": 2
            },
            "text/plain": [
              "HBox(children=(FloatProgress(value=0.0, max=11468.0), HTML(value='')))"
            ]
          },
          "metadata": {
            "tags": []
          }
        },
        {
          "output_type": "stream",
          "text": [
            "\n",
            "Fold 4 Accuracy : 0.939127148415691\n"
          ],
          "name": "stdout"
        },
        {
          "output_type": "display_data",
          "data": {
            "application/vnd.jupyter.widget-view+json": {
              "model_id": "ab0cfa564c174bbca4a59d03573e4aa3",
              "version_minor": 0,
              "version_major": 2
            },
            "text/plain": [
              "HBox(children=(FloatProgress(value=0.0, max=11468.0), HTML(value='')))"
            ]
          },
          "metadata": {
            "tags": []
          }
        },
        {
          "output_type": "stream",
          "text": [
            "\n",
            "Fold 5 Accuracy : 0.9383085908665115\n"
          ],
          "name": "stdout"
        }
      ]
    },
    {
      "cell_type": "code",
      "metadata": {
        "id": "hqoaWvvImspV",
        "colab_type": "code",
        "colab": {}
      },
      "source": [
        "# metrics start here\n",
        "def get_report(y_true, y_pred, classes):\n",
        "    clf_report = classification_report(y_true, y_pred, labels=classes, zero_division=0)\n",
        "    clf_report = clf_report.replace('\\n\\n', '\\n')\n",
        "    clf_report = clf_report.replace('macro avg', 'macro_avg')\n",
        "    clf_report = clf_report.replace('micro avg', 'micro_avg')\n",
        "    clf_report = clf_report.replace('weighted avg', 'weighted_avg')\n",
        "    clf_report = clf_report.replace(' / ', '/')\n",
        "    lines = clf_report.split('\\n')\n",
        "\n",
        "    class_names, plotMat, support = [], [], []\n",
        "    for line in lines[1:]:\n",
        "        t = line.strip().split()\n",
        "        if len(t) < 2:\n",
        "            continue\n",
        "        v = [float(x) for x in t[1: len(t) - 1]]\n",
        "        if len(v) == 1 : v = v * 3\n",
        "        support.append(int(t[-1]))\n",
        "        class_names.append(t[0])\n",
        "        plotMat.append(v)\n",
        "    plotMat = np.array(plotMat)\n",
        "    support = np.array(support)\n",
        "    return class_names, plotMat, support\n",
        "\n",
        "def get_scores(y_true, y_pred, classes):\n",
        "    correct, wrong = {}, {}\n",
        "    for tag in classes:\n",
        "        correct[tag] = 0\n",
        "        wrong[tag] = 0\n",
        "        \n",
        "    for tag, pred in zip(y_true, y_pred):\n",
        "        if tag in correct and tag == pred:\n",
        "            correct[tag] += 1\n",
        "        elif tag in wrong:\n",
        "            wrong[tag] += 1\n",
        "            \n",
        "    scores = []\n",
        "    total = len(y_true)\n",
        "    for tag in classes:\n",
        "        cur = np.array([correct[tag], wrong[tag]])\n",
        "        scores.append(cur / total)\n",
        "    return np.array(scores)\n",
        "    \n",
        "def plot_confusion_matrix(classes, mat, normalize=True, cmap=plt.cm.Blues):\n",
        "    cm = np.copy(mat)\n",
        "    title = 'Confusion Matrix (without normalization)'\n",
        "    if normalize:\n",
        "        cm = cm.astype('float') / np.sum(cm, axis=1, keepdims=True)\n",
        "        title = title.replace('without', 'with')\n",
        "    plt.clf()    \n",
        "    fig, ax = plt.subplots(figsize=(20,10))\n",
        "    ax.set_title(title, y=-0.06, fontsize=22)\n",
        "    ax.xaxis.set_ticks_position('top')\n",
        "    ax.xaxis.set_label_position('top')\n",
        "    plt.imshow(cm, interpolation='nearest', cmap=cmap)\n",
        "    plt.colorbar()\n",
        "    tick_marks = np.arange(len(classes))\n",
        "    plt.xticks(tick_marks, classes, rotation=45)\n",
        "    plt.yticks(tick_marks, classes)\n",
        "    fmt = '.2f' if normalize else 'd'\n",
        "    thresh = np.max(cm) / 2\n",
        "    for i in range(cm.shape[0]):\n",
        "        for j in range(cm.shape[1]):\n",
        "            color = \"white\" if (cm[i, j] > thresh) else \"black\"\n",
        "            plt.text(j, i, format(cm[i, j], fmt), horizontalalignment=\"center\", color=color)\n",
        "    plt.ylabel('True label',fontsize=22)\n",
        "    plt.xlabel('Predicted label', fontsize=22)\n",
        "    plt.tight_layout()\n",
        "    plt.savefig('confusion_matrix.png', bbox_inches=\"tight\", transparent=True)\n",
        "    \n",
        "def plot_clf_report(classes, plotMat, support, cmap=plt.cm.Blues):\n",
        "    title = 'Classification Report'\n",
        "    xticklabels = ['Precision', 'Recall', 'F1-score']\n",
        "    yticklabels = ['{0} ({1})'.format(classes[idx], sup) for idx, sup in enumerate(support)]\n",
        "    plt.clf()\n",
        "    fig, ax = plt.subplots(figsize=(20,10))\n",
        "    ax.set_title(title, y=-0.06, fontsize=22)\n",
        "    ax.xaxis.set_ticks_position('top')\n",
        "    ax.xaxis.set_label_position('top')\n",
        "    ax.xaxis.set_tick_params(labelsize=18)\n",
        "    ax.yaxis.set_tick_params(labelsize=14)\n",
        "    plt.imshow(plotMat, interpolation='nearest', cmap=cmap, aspect='auto')\n",
        "    plt.colorbar()\n",
        "    plt.xticks(np.arange(3), xticklabels, rotation=0)\n",
        "    plt.yticks(np.arange(len(classes)), yticklabels)\n",
        "\n",
        "    thresh = np.max(plotMat) / 2\n",
        "    for i in range(plotMat.shape[0]):\n",
        "        for j in range(plotMat.shape[1]):\n",
        "            color = \"white\" if (plotMat[i, j] > thresh) else \"black\"\n",
        "            plt.text(j, i, format(plotMat[i, j], '.2f'), horizontalalignment=\"center\", color=color, fontsize=14)\n",
        "\n",
        "    plt.xlabel('Metrics',fontsize=22)\n",
        "    plt.ylabel('Classes',fontsize=22)\n",
        "    plt.tight_layout()\n",
        "    plt.savefig('classification_report.png', bbox_inches=\"tight\", transparent=True)\n",
        "    \n",
        "def plot_tag_scores(classes, scores, normalize=True):\n",
        "    plt.clf()\n",
        "    width = 0.45\n",
        "    fig, ax = plt.subplots(figsize=(20,10))\n",
        "    ax.xaxis.set_tick_params(labelsize=18, rotation=25)\n",
        "    ax.yaxis.set_tick_params(labelsize=18)\n",
        "    range_bar1 = np.arange(len(classes))\n",
        "    rects1 = ax.bar(range_bar1, tuple(scores[:, 0]), width, color='b')\n",
        "    rects2 = ax.bar(range_bar1 + width, tuple(scores[:, 1]), width, color='r')\n",
        "\n",
        "    ax.set_ylabel('Scores',fontsize=22)\n",
        "    ax.set_title('Tag scores', fontsize=22)\n",
        "    ax.set_xticks(range_bar1 + width / 2)\n",
        "    ax.set_xticklabels(classes)\n",
        "\n",
        "    ax.legend((rects1[0], rects2[0]), ('Correct', 'Wrong'), fontsize=20)\n",
        "    plt.legend()\n",
        "    plt.savefig('tag_scores.png', bbox_inches=\"tight\", transparent=True)\n",
        "    plt.show()"
      ],
      "execution_count": 51,
      "outputs": []
    },
    {
      "cell_type": "code",
      "metadata": {
        "id": "vAZJ6zB818GX",
        "colab_type": "code",
        "colab": {
          "base_uri": "https://localhost:8080/",
          "height": 34
        },
        "outputId": "7a6468ee-95c2-48f6-f625-7dbf097fdd77"
      },
      "source": [
        "tagset = list(hmm_models[-1].pos_counts.keys())\n",
        "tagset.remove(start_token)\n",
        "tagset.remove(end_token)\n",
        "tagset = sorted(tagset)\n",
        "print(tagset)"
      ],
      "execution_count": 52,
      "outputs": [
        {
          "output_type": "stream",
          "text": [
            "['.', 'ADJ', 'ADP', 'ADV', 'CONJ', 'DET', 'NOUN', 'NUM', 'PRON', 'PRT', 'VERB', 'X']\n"
          ],
          "name": "stdout"
        }
      ]
    },
    {
      "cell_type": "code",
      "metadata": {
        "id": "0fCYtlk33dXM",
        "colab_type": "code",
        "colab": {}
      },
      "source": [
        "classes = tagset\n",
        "class_names = None\n",
        "report = None\n",
        "support = None\n",
        "cm, scores = None, None\n",
        "cnt = 0\n",
        "for y_true, y_pred in zip(y_trues, y_preds):\n",
        "    class_names, report_, support_ = get_report(y_true, y_pred, classes)\n",
        "    cm_ = confusion_matrix(y_true, y_pred, labels=classes)\n",
        "    scores_ = get_scores(y_true, y_pred, classes)\n",
        "    \n",
        "    if report is None : report = np.zeros_like(report_, dtype=np.float64)\n",
        "    report += report_\n",
        "    \n",
        "    if support is None : support = np.zeros_like(support_, dtype=np.float64)\n",
        "    support += support_\n",
        "    \n",
        "    if cm is None : cm = np.zeros_like(cm_, dtype=np.float64)\n",
        "    cm += cm_\n",
        "    \n",
        "    if scores is None : scores = np.zeros_like(scores_, dtype=np.float64)\n",
        "    scores += scores_\n",
        "    \n",
        "    cnt += 1\n",
        "    \n",
        "report /= cnt\n",
        "support /= cnt\n",
        "cm /= cnt\n",
        "scores /= cnt"
      ],
      "execution_count": 53,
      "outputs": []
    },
    {
      "cell_type": "code",
      "metadata": {
        "id": "z2haBZK98mgr",
        "colab_type": "code",
        "colab": {
          "base_uri": "https://localhost:8080/",
          "height": 681
        },
        "outputId": "fc548459-62d6-46f2-8f78-178918a5f75f"
      },
      "source": [
        "plot_clf_report(class_names, report, support)"
      ],
      "execution_count": 54,
      "outputs": [
        {
          "output_type": "display_data",
          "data": {
            "text/plain": [
              "<Figure size 432x288 with 0 Axes>"
            ]
          },
          "metadata": {
            "tags": []
          }
        },
        {
          "output_type": "display_data",
          "data": {
            "image/png": "[encoded data removed]",
            "text/plain": [
              "<Figure size 1440x720 with 2 Axes>"
            ]
          },
          "metadata": {
            "tags": [],
            "needs_background": "light"
          }
        }
      ]
    },
    {
      "cell_type": "code",
      "metadata": {
        "id": "pM8h-qYZ8518",
        "colab_type": "code",
        "colab": {
          "base_uri": "https://localhost:8080/",
          "height": 750
        },
        "outputId": "485e3627-067e-4383-dfe0-4edc7d92f035"
      },
      "source": [
        "plot_confusion_matrix(classes, cm)"
      ],
      "execution_count": 55,
      "outputs": [
        {
          "output_type": "display_data",
          "data": {
            "text/plain": [
              "<Figure size 432x288 with 0 Axes>"
            ]
          },
          "metadata": {
            "tags": []
          }
        },
        {
          "output_type": "display_data",
          "data": {
            "image/png": "[encoded data removed]",
            "text/plain": [
              "<Figure size 1440x720 with 2 Axes>"
            ]
          },
          "metadata": {
            "tags": [],
            "needs_background": "light"
          }
        }
      ]
    },
    {
      "cell_type": "code",
      "metadata": {
        "id": "Sd0NGCwB8_0C",
        "colab_type": "code",
        "colab": {
          "base_uri": "https://localhost:8080/",
          "height": 665
        },
        "outputId": "10966d78-67ef-4892-81d6-3d931ef60f87"
      },
      "source": [
        "plot_tag_scores(classes, scores)"
      ],
      "execution_count": 56,
      "outputs": [
        {
          "output_type": "stream",
          "text": [
            "No handles with labels found to put in legend.\n"
          ],
          "name": "stderr"
        },
        {
          "output_type": "display_data",
          "data": {
            "text/plain": [
              "<Figure size 432x288 with 0 Axes>"
            ]
          },
          "metadata": {
            "tags": []
          }
        },
        {
          "output_type": "display_data",
          "data": {
            "image/png": "[encoded data removed]",
            "text/plain": [
              "<Figure size 1440x720 with 1 Axes>"
            ]
          },
          "metadata": {
            "tags": [],
            "needs_background": "light"
          }
        }
      ]
    },
    {
      "cell_type": "code",
      "metadata": {
        "id": "L4pyekJ15B1F",
        "colab_type": "code",
        "colab": {}
      },
      "source": [
        ""
      ],
      "execution_count": 56,
      "outputs": []
    }
  ]
}