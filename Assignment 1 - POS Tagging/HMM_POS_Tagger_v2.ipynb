{
  "nbformat": 4,
  "nbformat_minor": 0,
  "metadata": {
    "colab": {
      "name": "HMM_POS_Tagger.ipynb",
      "provenance": [],
      "collapsed_sections": []
    },
    "kernelspec": {
      "name": "python3",
      "display_name": "Python 3"
    },
    "widgets": {
      "application/vnd.jupyter.widget-state+json": {
        "c5ea2ffe475142f5aece11885f61e481": {
          "model_module": "@jupyter-widgets/controls",
          "model_name": "HBoxModel",
          "state": {
            "_view_name": "HBoxView",
            "_dom_classes": [],
            "_model_name": "HBoxModel",
            "_view_module": "@jupyter-widgets/controls",
            "_model_module_version": "1.5.0",
            "_view_count": null,
            "_view_module_version": "1.5.0",
            "box_style": "",
            "layout": "IPY_MODEL_220c36b522e949ff8ac5c0f5746b7f16",
            "_model_module": "@jupyter-widgets/controls",
            "children": [
              "IPY_MODEL_adcf8e01d27c44c6b1176ad76b4ece9f",
              "IPY_MODEL_b4688931f97249fe9bc405e376920950"
            ]
          }
        },
        "220c36b522e949ff8ac5c0f5746b7f16": {
          "model_module": "@jupyter-widgets/base",
          "model_name": "LayoutModel",
          "state": {
            "_view_name": "LayoutView",
            "grid_template_rows": null,
            "right": null,
            "justify_content": null,
            "_view_module": "@jupyter-widgets/base",
            "overflow": null,
            "_model_module_version": "1.2.0",
            "_view_count": null,
            "flex_flow": null,
            "width": null,
            "min_width": null,
            "border": null,
            "align_items": null,
            "bottom": null,
            "_model_module": "@jupyter-widgets/base",
            "top": null,
            "grid_column": null,
            "overflow_y": null,
            "overflow_x": null,
            "grid_auto_flow": null,
            "grid_area": null,
            "grid_template_columns": null,
            "flex": null,
            "_model_name": "LayoutModel",
            "justify_items": null,
            "grid_row": null,
            "max_height": null,
            "align_content": null,
            "visibility": null,
            "align_self": null,
            "height": null,
            "min_height": null,
            "padding": null,
            "grid_auto_rows": null,
            "grid_gap": null,
            "max_width": null,
            "order": null,
            "_view_module_version": "1.2.0",
            "grid_template_areas": null,
            "object_position": null,
            "object_fit": null,
            "grid_auto_columns": null,
            "margin": null,
            "display": null,
            "left": null
          }
        },
        "adcf8e01d27c44c6b1176ad76b4ece9f": {
          "model_module": "@jupyter-widgets/controls",
          "model_name": "FloatProgressModel",
          "state": {
            "_view_name": "ProgressView",
            "style": "IPY_MODEL_3d96bc98d0574c9896b80dc6762a605b",
            "_dom_classes": [],
            "description": "100%",
            "_model_name": "FloatProgressModel",
            "bar_style": "success",
            "max": 11468,
            "_view_module": "@jupyter-widgets/controls",
            "_model_module_version": "1.5.0",
            "value": 11468,
            "_view_count": null,
            "_view_module_version": "1.5.0",
            "orientation": "horizontal",
            "min": 0,
            "description_tooltip": null,
            "_model_module": "@jupyter-widgets/controls",
            "layout": "IPY_MODEL_00957126bfcc43039940b545c6f8a97a"
          }
        },
        "b4688931f97249fe9bc405e376920950": {
          "model_module": "@jupyter-widgets/controls",
          "model_name": "HTMLModel",
          "state": {
            "_view_name": "HTMLView",
            "style": "IPY_MODEL_23d20c6050cc41b59b90b4264796b439",
            "_dom_classes": [],
            "description": "",
            "_model_name": "HTMLModel",
            "placeholder": "​",
            "_view_module": "@jupyter-widgets/controls",
            "_model_module_version": "1.5.0",
            "value": " 11468/11468 [01:27&lt;00:00, 130.99it/s]",
            "_view_count": null,
            "_view_module_version": "1.5.0",
            "description_tooltip": null,
            "_model_module": "@jupyter-widgets/controls",
            "layout": "IPY_MODEL_b47cfda5f0e64ddc841872e380165e4d"
          }
        },
        "3d96bc98d0574c9896b80dc6762a605b": {
          "model_module": "@jupyter-widgets/controls",
          "model_name": "ProgressStyleModel",
          "state": {
            "_view_name": "StyleView",
            "_model_name": "ProgressStyleModel",
            "description_width": "initial",
            "_view_module": "@jupyter-widgets/base",
            "_model_module_version": "1.5.0",
            "_view_count": null,
            "_view_module_version": "1.2.0",
            "bar_color": null,
            "_model_module": "@jupyter-widgets/controls"
          }
        },
        "00957126bfcc43039940b545c6f8a97a": {
          "model_module": "@jupyter-widgets/base",
          "model_name": "LayoutModel",
          "state": {
            "_view_name": "LayoutView",
            "grid_template_rows": null,
            "right": null,
            "justify_content": null,
            "_view_module": "@jupyter-widgets/base",
            "overflow": null,
            "_model_module_version": "1.2.0",
            "_view_count": null,
            "flex_flow": null,
            "width": null,
            "min_width": null,
            "border": null,
            "align_items": null,
            "bottom": null,
            "_model_module": "@jupyter-widgets/base",
            "top": null,
            "grid_column": null,
            "overflow_y": null,
            "overflow_x": null,
            "grid_auto_flow": null,
            "grid_area": null,
            "grid_template_columns": null,
            "flex": null,
            "_model_name": "LayoutModel",
            "justify_items": null,
            "grid_row": null,
            "max_height": null,
            "align_content": null,
            "visibility": null,
            "align_self": null,
            "height": null,
            "min_height": null,
            "padding": null,
            "grid_auto_rows": null,
            "grid_gap": null,
            "max_width": null,
            "order": null,
            "_view_module_version": "1.2.0",
            "grid_template_areas": null,
            "object_position": null,
            "object_fit": null,
            "grid_auto_columns": null,
            "margin": null,
            "display": null,
            "left": null
          }
        },
        "23d20c6050cc41b59b90b4264796b439": {
          "model_module": "@jupyter-widgets/controls",
          "model_name": "DescriptionStyleModel",
          "state": {
            "_view_name": "StyleView",
            "_model_name": "DescriptionStyleModel",
            "description_width": "",
            "_view_module": "@jupyter-widgets/base",
            "_model_module_version": "1.5.0",
            "_view_count": null,
            "_view_module_version": "1.2.0",
            "_model_module": "@jupyter-widgets/controls"
          }
        },
        "b47cfda5f0e64ddc841872e380165e4d": {
          "model_module": "@jupyter-widgets/base",
          "model_name": "LayoutModel",
          "state": {
            "_view_name": "LayoutView",
            "grid_template_rows": null,
            "right": null,
            "justify_content": null,
            "_view_module": "@jupyter-widgets/base",
            "overflow": null,
            "_model_module_version": "1.2.0",
            "_view_count": null,
            "flex_flow": null,
            "width": null,
            "min_width": null,
            "border": null,
            "align_items": null,
            "bottom": null,
            "_model_module": "@jupyter-widgets/base",
            "top": null,
            "grid_column": null,
            "overflow_y": null,
            "overflow_x": null,
            "grid_auto_flow": null,
            "grid_area": null,
            "grid_template_columns": null,
            "flex": null,
            "_model_name": "LayoutModel",
            "justify_items": null,
            "grid_row": null,
            "max_height": null,
            "align_content": null,
            "visibility": null,
            "align_self": null,
            "height": null,
            "min_height": null,
            "padding": null,
            "grid_auto_rows": null,
            "grid_gap": null,
            "max_width": null,
            "order": null,
            "_view_module_version": "1.2.0",
            "grid_template_areas": null,
            "object_position": null,
            "object_fit": null,
            "grid_auto_columns": null,
            "margin": null,
            "display": null,
            "left": null
          }
        },
        "e20ace87b53549168b7c5f006f1cd496": {
          "model_module": "@jupyter-widgets/controls",
          "model_name": "HBoxModel",
          "state": {
            "_view_name": "HBoxView",
            "_dom_classes": [],
            "_model_name": "HBoxModel",
            "_view_module": "@jupyter-widgets/controls",
            "_model_module_version": "1.5.0",
            "_view_count": null,
            "_view_module_version": "1.5.0",
            "box_style": "",
            "layout": "IPY_MODEL_f9d7fdcb778f475298241e4c2c4914bf",
            "_model_module": "@jupyter-widgets/controls",
            "children": [
              "IPY_MODEL_11601deb27b84112b5ace4098f1f00d5",
              "IPY_MODEL_10f5ceb4f3ec4f4e8c2423b3050f81eb"
            ]
          }
        },
        "f9d7fdcb778f475298241e4c2c4914bf": {
          "model_module": "@jupyter-widgets/base",
          "model_name": "LayoutModel",
          "state": {
            "_view_name": "LayoutView",
            "grid_template_rows": null,
            "right": null,
            "justify_content": null,
            "_view_module": "@jupyter-widgets/base",
            "overflow": null,
            "_model_module_version": "1.2.0",
            "_view_count": null,
            "flex_flow": null,
            "width": null,
            "min_width": null,
            "border": null,
            "align_items": null,
            "bottom": null,
            "_model_module": "@jupyter-widgets/base",
            "top": null,
            "grid_column": null,
            "overflow_y": null,
            "overflow_x": null,
            "grid_auto_flow": null,
            "grid_area": null,
            "grid_template_columns": null,
            "flex": null,
            "_model_name": "LayoutModel",
            "justify_items": null,
            "grid_row": null,
            "max_height": null,
            "align_content": null,
            "visibility": null,
            "align_self": null,
            "height": null,
            "min_height": null,
            "padding": null,
            "grid_auto_rows": null,
            "grid_gap": null,
            "max_width": null,
            "order": null,
            "_view_module_version": "1.2.0",
            "grid_template_areas": null,
            "object_position": null,
            "object_fit": null,
            "grid_auto_columns": null,
            "margin": null,
            "display": null,
            "left": null
          }
        },
        "11601deb27b84112b5ace4098f1f00d5": {
          "model_module": "@jupyter-widgets/controls",
          "model_name": "FloatProgressModel",
          "state": {
            "_view_name": "ProgressView",
            "style": "IPY_MODEL_9650f318952d46c6bb0d66bcad9713fa",
            "_dom_classes": [],
            "description": "100%",
            "_model_name": "FloatProgressModel",
            "bar_style": "success",
            "max": 11468,
            "_view_module": "@jupyter-widgets/controls",
            "_model_module_version": "1.5.0",
            "value": 11468,
            "_view_count": null,
            "_view_module_version": "1.5.0",
            "orientation": "horizontal",
            "min": 0,
            "description_tooltip": null,
            "_model_module": "@jupyter-widgets/controls",
            "layout": "IPY_MODEL_ad04a4177f644d6aac3fb3853331947a"
          }
        },
        "10f5ceb4f3ec4f4e8c2423b3050f81eb": {
          "model_module": "@jupyter-widgets/controls",
          "model_name": "HTMLModel",
          "state": {
            "_view_name": "HTMLView",
            "style": "IPY_MODEL_91b32fec49034a33b323c91762f09213",
            "_dom_classes": [],
            "description": "",
            "_model_name": "HTMLModel",
            "placeholder": "​",
            "_view_module": "@jupyter-widgets/controls",
            "_model_module_version": "1.5.0",
            "value": " 11468/11468 [02:55&lt;00:00, 65.35it/s]",
            "_view_count": null,
            "_view_module_version": "1.5.0",
            "description_tooltip": null,
            "_model_module": "@jupyter-widgets/controls",
            "layout": "IPY_MODEL_8e035a3c305c4c7bb6b873b4cab37438"
          }
        },
        "9650f318952d46c6bb0d66bcad9713fa": {
          "model_module": "@jupyter-widgets/controls",
          "model_name": "ProgressStyleModel",
          "state": {
            "_view_name": "StyleView",
            "_model_name": "ProgressStyleModel",
            "description_width": "initial",
            "_view_module": "@jupyter-widgets/base",
            "_model_module_version": "1.5.0",
            "_view_count": null,
            "_view_module_version": "1.2.0",
            "bar_color": null,
            "_model_module": "@jupyter-widgets/controls"
          }
        },
        "ad04a4177f644d6aac3fb3853331947a": {
          "model_module": "@jupyter-widgets/base",
          "model_name": "LayoutModel",
          "state": {
            "_view_name": "LayoutView",
            "grid_template_rows": null,
            "right": null,
            "justify_content": null,
            "_view_module": "@jupyter-widgets/base",
            "overflow": null,
            "_model_module_version": "1.2.0",
            "_view_count": null,
            "flex_flow": null,
            "width": null,
            "min_width": null,
            "border": null,
            "align_items": null,
            "bottom": null,
            "_model_module": "@jupyter-widgets/base",
            "top": null,
            "grid_column": null,
            "overflow_y": null,
            "overflow_x": null,
            "grid_auto_flow": null,
            "grid_area": null,
            "grid_template_columns": null,
            "flex": null,
            "_model_name": "LayoutModel",
            "justify_items": null,
            "grid_row": null,
            "max_height": null,
            "align_content": null,
            "visibility": null,
            "align_self": null,
            "height": null,
            "min_height": null,
            "padding": null,
            "grid_auto_rows": null,
            "grid_gap": null,
            "max_width": null,
            "order": null,
            "_view_module_version": "1.2.0",
            "grid_template_areas": null,
            "object_position": null,
            "object_fit": null,
            "grid_auto_columns": null,
            "margin": null,
            "display": null,
            "left": null
          }
        },
        "91b32fec49034a33b323c91762f09213": {
          "model_module": "@jupyter-widgets/controls",
          "model_name": "DescriptionStyleModel",
          "state": {
            "_view_name": "StyleView",
            "_model_name": "DescriptionStyleModel",
            "description_width": "",
            "_view_module": "@jupyter-widgets/base",
            "_model_module_version": "1.5.0",
            "_view_count": null,
            "_view_module_version": "1.2.0",
            "_model_module": "@jupyter-widgets/controls"
          }
        },
        "8e035a3c305c4c7bb6b873b4cab37438": {
          "model_module": "@jupyter-widgets/base",
          "model_name": "LayoutModel",
          "state": {
            "_view_name": "LayoutView",
            "grid_template_rows": null,
            "right": null,
            "justify_content": null,
            "_view_module": "@jupyter-widgets/base",
            "overflow": null,
            "_model_module_version": "1.2.0",
            "_view_count": null,
            "flex_flow": null,
            "width": null,
            "min_width": null,
            "border": null,
            "align_items": null,
            "bottom": null,
            "_model_module": "@jupyter-widgets/base",
            "top": null,
            "grid_column": null,
            "overflow_y": null,
            "overflow_x": null,
            "grid_auto_flow": null,
            "grid_area": null,
            "grid_template_columns": null,
            "flex": null,
            "_model_name": "LayoutModel",
            "justify_items": null,
            "grid_row": null,
            "max_height": null,
            "align_content": null,
            "visibility": null,
            "align_self": null,
            "height": null,
            "min_height": null,
            "padding": null,
            "grid_auto_rows": null,
            "grid_gap": null,
            "max_width": null,
            "order": null,
            "_view_module_version": "1.2.0",
            "grid_template_areas": null,
            "object_position": null,
            "object_fit": null,
            "grid_auto_columns": null,
            "margin": null,
            "display": null,
            "left": null
          }
        },
        "0ec429081a5c4d1d9c11d79bd468706b": {
          "model_module": "@jupyter-widgets/controls",
          "model_name": "HBoxModel",
          "state": {
            "_view_name": "HBoxView",
            "_dom_classes": [],
            "_model_name": "HBoxModel",
            "_view_module": "@jupyter-widgets/controls",
            "_model_module_version": "1.5.0",
            "_view_count": null,
            "_view_module_version": "1.5.0",
            "box_style": "",
            "layout": "IPY_MODEL_5055444134054fe8b6e14764f4fa2611",
            "_model_module": "@jupyter-widgets/controls",
            "children": [
              "IPY_MODEL_f9a5c13f55344505b723c8f77ebb96ec",
              "IPY_MODEL_d840ff817518415fa5648c1fa06c8423"
            ]
          }
        },
        "5055444134054fe8b6e14764f4fa2611": {
          "model_module": "@jupyter-widgets/base",
          "model_name": "LayoutModel",
          "state": {
            "_view_name": "LayoutView",
            "grid_template_rows": null,
            "right": null,
            "justify_content": null,
            "_view_module": "@jupyter-widgets/base",
            "overflow": null,
            "_model_module_version": "1.2.0",
            "_view_count": null,
            "flex_flow": null,
            "width": null,
            "min_width": null,
            "border": null,
            "align_items": null,
            "bottom": null,
            "_model_module": "@jupyter-widgets/base",
            "top": null,
            "grid_column": null,
            "overflow_y": null,
            "overflow_x": null,
            "grid_auto_flow": null,
            "grid_area": null,
            "grid_template_columns": null,
            "flex": null,
            "_model_name": "LayoutModel",
            "justify_items": null,
            "grid_row": null,
            "max_height": null,
            "align_content": null,
            "visibility": null,
            "align_self": null,
            "height": null,
            "min_height": null,
            "padding": null,
            "grid_auto_rows": null,
            "grid_gap": null,
            "max_width": null,
            "order": null,
            "_view_module_version": "1.2.0",
            "grid_template_areas": null,
            "object_position": null,
            "object_fit": null,
            "grid_auto_columns": null,
            "margin": null,
            "display": null,
            "left": null
          }
        },
        "f9a5c13f55344505b723c8f77ebb96ec": {
          "model_module": "@jupyter-widgets/controls",
          "model_name": "FloatProgressModel",
          "state": {
            "_view_name": "ProgressView",
            "style": "IPY_MODEL_2339f5a945dd4edbab79f868ffcc5c00",
            "_dom_classes": [],
            "description": "100%",
            "_model_name": "FloatProgressModel",
            "bar_style": "success",
            "max": 11468,
            "_view_module": "@jupyter-widgets/controls",
            "_model_module_version": "1.5.0",
            "value": 11468,
            "_view_count": null,
            "_view_module_version": "1.5.0",
            "orientation": "horizontal",
            "min": 0,
            "description_tooltip": null,
            "_model_module": "@jupyter-widgets/controls",
            "layout": "IPY_MODEL_4a37053cc77f4fa7910856ec4cea39f0"
          }
        },
        "d840ff817518415fa5648c1fa06c8423": {
          "model_module": "@jupyter-widgets/controls",
          "model_name": "HTMLModel",
          "state": {
            "_view_name": "HTMLView",
            "style": "IPY_MODEL_931635aedd164851a60f861df45b5944",
            "_dom_classes": [],
            "description": "",
            "_model_name": "HTMLModel",
            "placeholder": "​",
            "_view_module": "@jupyter-widgets/controls",
            "_model_module_version": "1.5.0",
            "value": " 11468/11468 [01:27&lt;00:00, 130.99it/s]",
            "_view_count": null,
            "_view_module_version": "1.5.0",
            "description_tooltip": null,
            "_model_module": "@jupyter-widgets/controls",
            "layout": "IPY_MODEL_0ef57b51d9584fa787d771f99740c2af"
          }
        },
        "2339f5a945dd4edbab79f868ffcc5c00": {
          "model_module": "@jupyter-widgets/controls",
          "model_name": "ProgressStyleModel",
          "state": {
            "_view_name": "StyleView",
            "_model_name": "ProgressStyleModel",
            "description_width": "initial",
            "_view_module": "@jupyter-widgets/base",
            "_model_module_version": "1.5.0",
            "_view_count": null,
            "_view_module_version": "1.2.0",
            "bar_color": null,
            "_model_module": "@jupyter-widgets/controls"
          }
        },
        "4a37053cc77f4fa7910856ec4cea39f0": {
          "model_module": "@jupyter-widgets/base",
          "model_name": "LayoutModel",
          "state": {
            "_view_name": "LayoutView",
            "grid_template_rows": null,
            "right": null,
            "justify_content": null,
            "_view_module": "@jupyter-widgets/base",
            "overflow": null,
            "_model_module_version": "1.2.0",
            "_view_count": null,
            "flex_flow": null,
            "width": null,
            "min_width": null,
            "border": null,
            "align_items": null,
            "bottom": null,
            "_model_module": "@jupyter-widgets/base",
            "top": null,
            "grid_column": null,
            "overflow_y": null,
            "overflow_x": null,
            "grid_auto_flow": null,
            "grid_area": null,
            "grid_template_columns": null,
            "flex": null,
            "_model_name": "LayoutModel",
            "justify_items": null,
            "grid_row": null,
            "max_height": null,
            "align_content": null,
            "visibility": null,
            "align_self": null,
            "height": null,
            "min_height": null,
            "padding": null,
            "grid_auto_rows": null,
            "grid_gap": null,
            "max_width": null,
            "order": null,
            "_view_module_version": "1.2.0",
            "grid_template_areas": null,
            "object_position": null,
            "object_fit": null,
            "grid_auto_columns": null,
            "margin": null,
            "display": null,
            "left": null
          }
        },
        "931635aedd164851a60f861df45b5944": {
          "model_module": "@jupyter-widgets/controls",
          "model_name": "DescriptionStyleModel",
          "state": {
            "_view_name": "StyleView",
            "_model_name": "DescriptionStyleModel",
            "description_width": "",
            "_view_module": "@jupyter-widgets/base",
            "_model_module_version": "1.5.0",
            "_view_count": null,
            "_view_module_version": "1.2.0",
            "_model_module": "@jupyter-widgets/controls"
          }
        },
        "0ef57b51d9584fa787d771f99740c2af": {
          "model_module": "@jupyter-widgets/base",
          "model_name": "LayoutModel",
          "state": {
            "_view_name": "LayoutView",
            "grid_template_rows": null,
            "right": null,
            "justify_content": null,
            "_view_module": "@jupyter-widgets/base",
            "overflow": null,
            "_model_module_version": "1.2.0",
            "_view_count": null,
            "flex_flow": null,
            "width": null,
            "min_width": null,
            "border": null,
            "align_items": null,
            "bottom": null,
            "_model_module": "@jupyter-widgets/base",
            "top": null,
            "grid_column": null,
            "overflow_y": null,
            "overflow_x": null,
            "grid_auto_flow": null,
            "grid_area": null,
            "grid_template_columns": null,
            "flex": null,
            "_model_name": "LayoutModel",
            "justify_items": null,
            "grid_row": null,
            "max_height": null,
            "align_content": null,
            "visibility": null,
            "align_self": null,
            "height": null,
            "min_height": null,
            "padding": null,
            "grid_auto_rows": null,
            "grid_gap": null,
            "max_width": null,
            "order": null,
            "_view_module_version": "1.2.0",
            "grid_template_areas": null,
            "object_position": null,
            "object_fit": null,
            "grid_auto_columns": null,
            "margin": null,
            "display": null,
            "left": null
          }
        },
        "1be0b853e1f94f3381d7c4fb712feee5": {
          "model_module": "@jupyter-widgets/controls",
          "model_name": "HBoxModel",
          "state": {
            "_view_name": "HBoxView",
            "_dom_classes": [],
            "_model_name": "HBoxModel",
            "_view_module": "@jupyter-widgets/controls",
            "_model_module_version": "1.5.0",
            "_view_count": null,
            "_view_module_version": "1.5.0",
            "box_style": "",
            "layout": "IPY_MODEL_db9b1fe51e27437e8368a61092bd8473",
            "_model_module": "@jupyter-widgets/controls",
            "children": [
              "IPY_MODEL_54c2c0ae0ba24e669419ca913685c98e",
              "IPY_MODEL_4655ec02dcdd499a8848ceb411729cf9"
            ]
          }
        },
        "db9b1fe51e27437e8368a61092bd8473": {
          "model_module": "@jupyter-widgets/base",
          "model_name": "LayoutModel",
          "state": {
            "_view_name": "LayoutView",
            "grid_template_rows": null,
            "right": null,
            "justify_content": null,
            "_view_module": "@jupyter-widgets/base",
            "overflow": null,
            "_model_module_version": "1.2.0",
            "_view_count": null,
            "flex_flow": null,
            "width": null,
            "min_width": null,
            "border": null,
            "align_items": null,
            "bottom": null,
            "_model_module": "@jupyter-widgets/base",
            "top": null,
            "grid_column": null,
            "overflow_y": null,
            "overflow_x": null,
            "grid_auto_flow": null,
            "grid_area": null,
            "grid_template_columns": null,
            "flex": null,
            "_model_name": "LayoutModel",
            "justify_items": null,
            "grid_row": null,
            "max_height": null,
            "align_content": null,
            "visibility": null,
            "align_self": null,
            "height": null,
            "min_height": null,
            "padding": null,
            "grid_auto_rows": null,
            "grid_gap": null,
            "max_width": null,
            "order": null,
            "_view_module_version": "1.2.0",
            "grid_template_areas": null,
            "object_position": null,
            "object_fit": null,
            "grid_auto_columns": null,
            "margin": null,
            "display": null,
            "left": null
          }
        },
        "54c2c0ae0ba24e669419ca913685c98e": {
          "model_module": "@jupyter-widgets/controls",
          "model_name": "FloatProgressModel",
          "state": {
            "_view_name": "ProgressView",
            "style": "IPY_MODEL_3ff2ea54f9a246fbbffb40f8cb84b514",
            "_dom_classes": [],
            "description": "100%",
            "_model_name": "FloatProgressModel",
            "bar_style": "success",
            "max": 11468,
            "_view_module": "@jupyter-widgets/controls",
            "_model_module_version": "1.5.0",
            "value": 11468,
            "_view_count": null,
            "_view_module_version": "1.5.0",
            "orientation": "horizontal",
            "min": 0,
            "description_tooltip": null,
            "_model_module": "@jupyter-widgets/controls",
            "layout": "IPY_MODEL_259e05b9bd644559b90c9a8d8762666e"
          }
        },
        "4655ec02dcdd499a8848ceb411729cf9": {
          "model_module": "@jupyter-widgets/controls",
          "model_name": "HTMLModel",
          "state": {
            "_view_name": "HTMLView",
            "style": "IPY_MODEL_3ebd89575b0d42a392a19d877eaf468c",
            "_dom_classes": [],
            "description": "",
            "_model_name": "HTMLModel",
            "placeholder": "​",
            "_view_module": "@jupyter-widgets/controls",
            "_model_module_version": "1.5.0",
            "value": " 11468/11468 [04:05&lt;00:00, 46.71it/s]",
            "_view_count": null,
            "_view_module_version": "1.5.0",
            "description_tooltip": null,
            "_model_module": "@jupyter-widgets/controls",
            "layout": "IPY_MODEL_e9413435ff5a4fd98287912fa7f01d08"
          }
        },
        "3ff2ea54f9a246fbbffb40f8cb84b514": {
          "model_module": "@jupyter-widgets/controls",
          "model_name": "ProgressStyleModel",
          "state": {
            "_view_name": "StyleView",
            "_model_name": "ProgressStyleModel",
            "description_width": "initial",
            "_view_module": "@jupyter-widgets/base",
            "_model_module_version": "1.5.0",
            "_view_count": null,
            "_view_module_version": "1.2.0",
            "bar_color": null,
            "_model_module": "@jupyter-widgets/controls"
          }
        },
        "259e05b9bd644559b90c9a8d8762666e": {
          "model_module": "@jupyter-widgets/base",
          "model_name": "LayoutModel",
          "state": {
            "_view_name": "LayoutView",
            "grid_template_rows": null,
            "right": null,
            "justify_content": null,
            "_view_module": "@jupyter-widgets/base",
            "overflow": null,
            "_model_module_version": "1.2.0",
            "_view_count": null,
            "flex_flow": null,
            "width": null,
            "min_width": null,
            "border": null,
            "align_items": null,
            "bottom": null,
            "_model_module": "@jupyter-widgets/base",
            "top": null,
            "grid_column": null,
            "overflow_y": null,
            "overflow_x": null,
            "grid_auto_flow": null,
            "grid_area": null,
            "grid_template_columns": null,
            "flex": null,
            "_model_name": "LayoutModel",
            "justify_items": null,
            "grid_row": null,
            "max_height": null,
            "align_content": null,
            "visibility": null,
            "align_self": null,
            "height": null,
            "min_height": null,
            "padding": null,
            "grid_auto_rows": null,
            "grid_gap": null,
            "max_width": null,
            "order": null,
            "_view_module_version": "1.2.0",
            "grid_template_areas": null,
            "object_position": null,
            "object_fit": null,
            "grid_auto_columns": null,
            "margin": null,
            "display": null,
            "left": null
          }
        },
        "3ebd89575b0d42a392a19d877eaf468c": {
          "model_module": "@jupyter-widgets/controls",
          "model_name": "DescriptionStyleModel",
          "state": {
            "_view_name": "StyleView",
            "_model_name": "DescriptionStyleModel",
            "description_width": "",
            "_view_module": "@jupyter-widgets/base",
            "_model_module_version": "1.5.0",
            "_view_count": null,
            "_view_module_version": "1.2.0",
            "_model_module": "@jupyter-widgets/controls"
          }
        },
        "e9413435ff5a4fd98287912fa7f01d08": {
          "model_module": "@jupyter-widgets/base",
          "model_name": "LayoutModel",
          "state": {
            "_view_name": "LayoutView",
            "grid_template_rows": null,
            "right": null,
            "justify_content": null,
            "_view_module": "@jupyter-widgets/base",
            "overflow": null,
            "_model_module_version": "1.2.0",
            "_view_count": null,
            "flex_flow": null,
            "width": null,
            "min_width": null,
            "border": null,
            "align_items": null,
            "bottom": null,
            "_model_module": "@jupyter-widgets/base",
            "top": null,
            "grid_column": null,
            "overflow_y": null,
            "overflow_x": null,
            "grid_auto_flow": null,
            "grid_area": null,
            "grid_template_columns": null,
            "flex": null,
            "_model_name": "LayoutModel",
            "justify_items": null,
            "grid_row": null,
            "max_height": null,
            "align_content": null,
            "visibility": null,
            "align_self": null,
            "height": null,
            "min_height": null,
            "padding": null,
            "grid_auto_rows": null,
            "grid_gap": null,
            "max_width": null,
            "order": null,
            "_view_module_version": "1.2.0",
            "grid_template_areas": null,
            "object_position": null,
            "object_fit": null,
            "grid_auto_columns": null,
            "margin": null,
            "display": null,
            "left": null
          }
        },
        "34fcbb575a4c498f8b6b72eb2a6e2c11": {
          "model_module": "@jupyter-widgets/controls",
          "model_name": "HBoxModel",
          "state": {
            "_view_name": "HBoxView",
            "_dom_classes": [],
            "_model_name": "HBoxModel",
            "_view_module": "@jupyter-widgets/controls",
            "_model_module_version": "1.5.0",
            "_view_count": null,
            "_view_module_version": "1.5.0",
            "box_style": "",
            "layout": "IPY_MODEL_f139c8dd0a8148f0bc9507ecf8eeece2",
            "_model_module": "@jupyter-widgets/controls",
            "children": [
              "IPY_MODEL_8ecfbb7a6a3f4951b9de0680e9e7a3cd",
              "IPY_MODEL_2d138cc9b1dd49cb93ea9f5b80b79172"
            ]
          }
        },
        "f139c8dd0a8148f0bc9507ecf8eeece2": {
          "model_module": "@jupyter-widgets/base",
          "model_name": "LayoutModel",
          "state": {
            "_view_name": "LayoutView",
            "grid_template_rows": null,
            "right": null,
            "justify_content": null,
            "_view_module": "@jupyter-widgets/base",
            "overflow": null,
            "_model_module_version": "1.2.0",
            "_view_count": null,
            "flex_flow": null,
            "width": null,
            "min_width": null,
            "border": null,
            "align_items": null,
            "bottom": null,
            "_model_module": "@jupyter-widgets/base",
            "top": null,
            "grid_column": null,
            "overflow_y": null,
            "overflow_x": null,
            "grid_auto_flow": null,
            "grid_area": null,
            "grid_template_columns": null,
            "flex": null,
            "_model_name": "LayoutModel",
            "justify_items": null,
            "grid_row": null,
            "max_height": null,
            "align_content": null,
            "visibility": null,
            "align_self": null,
            "height": null,
            "min_height": null,
            "padding": null,
            "grid_auto_rows": null,
            "grid_gap": null,
            "max_width": null,
            "order": null,
            "_view_module_version": "1.2.0",
            "grid_template_areas": null,
            "object_position": null,
            "object_fit": null,
            "grid_auto_columns": null,
            "margin": null,
            "display": null,
            "left": null
          }
        },
        "8ecfbb7a6a3f4951b9de0680e9e7a3cd": {
          "model_module": "@jupyter-widgets/controls",
          "model_name": "FloatProgressModel",
          "state": {
            "_view_name": "ProgressView",
            "style": "IPY_MODEL_561db83aa24443b2a488efcfa652e74c",
            "_dom_classes": [],
            "description": "100%",
            "_model_name": "FloatProgressModel",
            "bar_style": "success",
            "max": 11468,
            "_view_module": "@jupyter-widgets/controls",
            "_model_module_version": "1.5.0",
            "value": 11468,
            "_view_count": null,
            "_view_module_version": "1.5.0",
            "orientation": "horizontal",
            "min": 0,
            "description_tooltip": null,
            "_model_module": "@jupyter-widgets/controls",
            "layout": "IPY_MODEL_cbeae01ce9274385b260a1861cfaa48f"
          }
        },
        "2d138cc9b1dd49cb93ea9f5b80b79172": {
          "model_module": "@jupyter-widgets/controls",
          "model_name": "HTMLModel",
          "state": {
            "_view_name": "HTMLView",
            "style": "IPY_MODEL_30d3023c357744cd82de0f78836ca37f",
            "_dom_classes": [],
            "description": "",
            "_model_name": "HTMLModel",
            "placeholder": "​",
            "_view_module": "@jupyter-widgets/controls",
            "_model_module_version": "1.5.0",
            "value": " 11468/11468 [02:12&lt;00:00, 86.32it/s]",
            "_view_count": null,
            "_view_module_version": "1.5.0",
            "description_tooltip": null,
            "_model_module": "@jupyter-widgets/controls",
            "layout": "IPY_MODEL_fbc2e1afb4f94a4daf91dfa945365b13"
          }
        },
        "561db83aa24443b2a488efcfa652e74c": {
          "model_module": "@jupyter-widgets/controls",
          "model_name": "ProgressStyleModel",
          "state": {
            "_view_name": "StyleView",
            "_model_name": "ProgressStyleModel",
            "description_width": "initial",
            "_view_module": "@jupyter-widgets/base",
            "_model_module_version": "1.5.0",
            "_view_count": null,
            "_view_module_version": "1.2.0",
            "bar_color": null,
            "_model_module": "@jupyter-widgets/controls"
          }
        },
        "cbeae01ce9274385b260a1861cfaa48f": {
          "model_module": "@jupyter-widgets/base",
          "model_name": "LayoutModel",
          "state": {
            "_view_name": "LayoutView",
            "grid_template_rows": null,
            "right": null,
            "justify_content": null,
            "_view_module": "@jupyter-widgets/base",
            "overflow": null,
            "_model_module_version": "1.2.0",
            "_view_count": null,
            "flex_flow": null,
            "width": null,
            "min_width": null,
            "border": null,
            "align_items": null,
            "bottom": null,
            "_model_module": "@jupyter-widgets/base",
            "top": null,
            "grid_column": null,
            "overflow_y": null,
            "overflow_x": null,
            "grid_auto_flow": null,
            "grid_area": null,
            "grid_template_columns": null,
            "flex": null,
            "_model_name": "LayoutModel",
            "justify_items": null,
            "grid_row": null,
            "max_height": null,
            "align_content": null,
            "visibility": null,
            "align_self": null,
            "height": null,
            "min_height": null,
            "padding": null,
            "grid_auto_rows": null,
            "grid_gap": null,
            "max_width": null,
            "order": null,
            "_view_module_version": "1.2.0",
            "grid_template_areas": null,
            "object_position": null,
            "object_fit": null,
            "grid_auto_columns": null,
            "margin": null,
            "display": null,
            "left": null
          }
        },
        "30d3023c357744cd82de0f78836ca37f": {
          "model_module": "@jupyter-widgets/controls",
          "model_name": "DescriptionStyleModel",
          "state": {
            "_view_name": "StyleView",
            "_model_name": "DescriptionStyleModel",
            "description_width": "",
            "_view_module": "@jupyter-widgets/base",
            "_model_module_version": "1.5.0",
            "_view_count": null,
            "_view_module_version": "1.2.0",
            "_model_module": "@jupyter-widgets/controls"
          }
        },
        "fbc2e1afb4f94a4daf91dfa945365b13": {
          "model_module": "@jupyter-widgets/base",
          "model_name": "LayoutModel",
          "state": {
            "_view_name": "LayoutView",
            "grid_template_rows": null,
            "right": null,
            "justify_content": null,
            "_view_module": "@jupyter-widgets/base",
            "overflow": null,
            "_model_module_version": "1.2.0",
            "_view_count": null,
            "flex_flow": null,
            "width": null,
            "min_width": null,
            "border": null,
            "align_items": null,
            "bottom": null,
            "_model_module": "@jupyter-widgets/base",
            "top": null,
            "grid_column": null,
            "overflow_y": null,
            "overflow_x": null,
            "grid_auto_flow": null,
            "grid_area": null,
            "grid_template_columns": null,
            "flex": null,
            "_model_name": "LayoutModel",
            "justify_items": null,
            "grid_row": null,
            "max_height": null,
            "align_content": null,
            "visibility": null,
            "align_self": null,
            "height": null,
            "min_height": null,
            "padding": null,
            "grid_auto_rows": null,
            "grid_gap": null,
            "max_width": null,
            "order": null,
            "_view_module_version": "1.2.0",
            "grid_template_areas": null,
            "object_position": null,
            "object_fit": null,
            "grid_auto_columns": null,
            "margin": null,
            "display": null,
            "left": null
          }
        }
      }
    }
  },
  "cells": [
    {
      "cell_type": "code",
      "metadata": {
        "id": "WVGDMVCe2kmX",
        "colab_type": "code",
        "colab": {
          "base_uri": "https://localhost:8080/",
          "height": 108
        },
        "outputId": "8b5c1850-4a4c-4dad-8fd5-046fbef05d2b"
      },
      "source": [
        "import nltk \n",
        "from collections import defaultdict, Counter\n",
        "from time import time\n",
        "from sklearn.model_selection import KFold\n",
        "from sklearn import metrics\n",
        "from sklearn.metrics import confusion_matrix\n",
        "from sklearn.metrics import classification_report\n",
        "from matplotlib import pyplot as plt\n",
        "from tqdm.notebook import tqdm\n",
        "import numpy as np\n",
        "\n",
        "nltk.download('brown')\n",
        "nltk.download('universal_tagset')"
      ],
      "execution_count": 1,
      "outputs": [
        {
          "output_type": "stream",
          "text": [
            "[nltk_data] Downloading package brown to /root/nltk_data...\n",
            "[nltk_data]   Unzipping corpora/brown.zip.\n",
            "[nltk_data] Downloading package universal_tagset to /root/nltk_data...\n",
            "[nltk_data]   Unzipping taggers/universal_tagset.zip.\n"
          ],
          "name": "stdout"
        },
        {
          "output_type": "execute_result",
          "data": {
            "text/plain": [
              "True"
            ]
          },
          "metadata": {
            "tags": []
          },
          "execution_count": 1
        }
      ]
    },
    {
      "cell_type": "code",
      "metadata": {
        "id": "FAIr0WFK83bA",
        "colab_type": "code",
        "colab": {}
      },
      "source": [
        "start_token, end_token = '^', '$'\n",
        "tagged_sents = nltk.corpus.brown.tagged_sents(tagset='universal')\n",
        "tagged_sents = [[(start_token, start_token)] + x + [(end_token, end_token)] for x in tagged_sents]"
      ],
      "execution_count": 2,
      "outputs": []
    },
    {
      "cell_type": "code",
      "metadata": {
        "id": "eOAnNX6Hf8F8",
        "colab_type": "code",
        "colab": {}
      },
      "source": [
        "class HMM_POSTagger():\n",
        "    def __init__(self):\n",
        "        self.pos_counts = None\n",
        "        self.word_tags = None\n",
        "        self.trans_count = None\n",
        "\n",
        "    def train(self, tagged_sents):\n",
        "        all_tuples = [tup for sent in tagged_sents for tup in sent]\n",
        "        self.pos_counts = Counter(pos for _, pos in all_tuples)\n",
        "        self.word_tags = defaultdict(Counter)\n",
        "        for word, pos in all_tuples:\n",
        "            self.word_tags[word][pos] += 1\n",
        "        self.trans_count = defaultdict(Counter)\n",
        "        for sent in tagged_sents:\n",
        "            for i in range(len(sent) - 1):\n",
        "                self.trans_count[sent[i][1]][sent[i + 1][1]] += 1\n",
        "\n",
        "    def eprob(self, tag, word):\n",
        "        num = self.word_tags[word][tag]\n",
        "        tot = self.pos_counts[tag]\n",
        "        prob = (num + 1) / (tot + 1 + len(self.word_tags))\n",
        "        return prob\n",
        "\n",
        "    def tprob(self, tag1, tag2):\n",
        "        num = self.trans_count[tag1][tag2]\n",
        "        tot = self.pos_counts[tag1]\n",
        "        prob = (num + 1) / (tot + len(self.pos_counts))\n",
        "        return prob\n",
        "\n",
        "    def viterbi(self, untagged_sent):\n",
        "        t = len(untagged_sent)\n",
        "        seq_sc = defaultdict(Counter)\n",
        "        for tag in self.pos_counts:\n",
        "            seq_sc[0][tag] = 0.0\n",
        "        seq_sc[0][start_token] = 1.0\n",
        "        \n",
        "        bacptr = defaultdict(Counter)\n",
        "        bacptr[0][start_token] = 0\n",
        "\n",
        "        for i in range(1, t - 1):\n",
        "            word = untagged_sent[i]\n",
        "            for tag in self.pos_counts:\n",
        "                seq_sc[1][tag] = 0.0\n",
        "                for prev_tag in self.pos_counts:\n",
        "                    state_prob = self.eprob(tag, word) * self.tprob(prev_tag, tag) * seq_sc[0][prev_tag]\n",
        "                    if seq_sc[1][tag] < state_prob:\n",
        "                        seq_sc[1][tag] = state_prob\n",
        "                        bacptr[i][tag] = prev_tag\n",
        "            for tag in self.pos_counts:\n",
        "                seq_sc[0][tag] = seq_sc[1][tag]\n",
        "    \n",
        "        tags = [end_token for i in range(t)]\n",
        "        for tag in self.pos_counts:\n",
        "            if seq_sc[1][tag] > seq_sc[1][tags[t - 2]]:\n",
        "                tags[t - 2] = tag\n",
        "        for i in range(t - 3, 0, -1):\n",
        "            tags[i] = bacptr[i + 1][tags[i + 1]]\n",
        "        tags[0] = start_token\n",
        "        return tags\n"
      ],
      "execution_count": 3,
      "outputs": []
    },
    {
      "cell_type": "code",
      "metadata": {
        "id": "-_7QY1i4ndwr",
        "colab_type": "code",
        "colab": {}
      },
      "source": [
        "kfold = KFold(n_splits=5, shuffle=True, random_state=1)\n",
        "tagged_sents = np.array(tagged_sents)\n",
        "y_preds = []\n",
        "y_trues = []\n",
        "hmm_models = []"
      ],
      "execution_count": 4,
      "outputs": []
    },
    {
      "cell_type": "code",
      "metadata": {
        "id": "w_JMEEPKntDR",
        "colab_type": "code",
        "colab": {
          "base_uri": "https://localhost:8080/",
          "height": 359,
          "referenced_widgets": [
            "c5ea2ffe475142f5aece11885f61e481",
            "220c36b522e949ff8ac5c0f5746b7f16",
            "adcf8e01d27c44c6b1176ad76b4ece9f",
            "b4688931f97249fe9bc405e376920950",
            "3d96bc98d0574c9896b80dc6762a605b",
            "00957126bfcc43039940b545c6f8a97a",
            "23d20c6050cc41b59b90b4264796b439",
            "b47cfda5f0e64ddc841872e380165e4d",
            "e20ace87b53549168b7c5f006f1cd496",
            "f9d7fdcb778f475298241e4c2c4914bf",
            "11601deb27b84112b5ace4098f1f00d5",
            "10f5ceb4f3ec4f4e8c2423b3050f81eb",
            "9650f318952d46c6bb0d66bcad9713fa",
            "ad04a4177f644d6aac3fb3853331947a",
            "91b32fec49034a33b323c91762f09213",
            "8e035a3c305c4c7bb6b873b4cab37438",
            "0ec429081a5c4d1d9c11d79bd468706b",
            "5055444134054fe8b6e14764f4fa2611",
            "f9a5c13f55344505b723c8f77ebb96ec",
            "d840ff817518415fa5648c1fa06c8423",
            "2339f5a945dd4edbab79f868ffcc5c00",
            "4a37053cc77f4fa7910856ec4cea39f0",
            "931635aedd164851a60f861df45b5944",
            "0ef57b51d9584fa787d771f99740c2af",
            "1be0b853e1f94f3381d7c4fb712feee5",
            "db9b1fe51e27437e8368a61092bd8473",
            "54c2c0ae0ba24e669419ca913685c98e",
            "4655ec02dcdd499a8848ceb411729cf9",
            "3ff2ea54f9a246fbbffb40f8cb84b514",
            "259e05b9bd644559b90c9a8d8762666e",
            "3ebd89575b0d42a392a19d877eaf468c",
            "e9413435ff5a4fd98287912fa7f01d08",
            "34fcbb575a4c498f8b6b72eb2a6e2c11",
            "f139c8dd0a8148f0bc9507ecf8eeece2",
            "8ecfbb7a6a3f4951b9de0680e9e7a3cd",
            "2d138cc9b1dd49cb93ea9f5b80b79172",
            "561db83aa24443b2a488efcfa652e74c",
            "cbeae01ce9274385b260a1861cfaa48f",
            "30d3023c357744cd82de0f78836ca37f",
            "fbc2e1afb4f94a4daf91dfa945365b13"
          ]
        },
        "outputId": "f0016a02-d367-4a8f-b9b2-2c0ab6bb0329"
      },
      "source": [
        "for fold, (train, test) in enumerate(kfold.split(tagged_sents)):\n",
        "    train_sents = tagged_sents[train]\n",
        "    test_sents = tagged_sents[test]\n",
        "    hmm_models.append(HMM_POSTagger())\n",
        "    hmm_models[-1].train(train_sents)\n",
        "    y_pred, y_true = [], []\n",
        "    for sent in tqdm(test_sents):\n",
        "        untagged_sent = [word for word, tag in sent]\n",
        "        pred = hmm_models[-1].viterbi(untagged_sent)\n",
        "        for i in range(1, len(pred)-1):\n",
        "            y_pred.append(pred[i])\n",
        "            y_true.append(sent[i][1])\n",
        "    y_preds.append(np.array(y_pred))\n",
        "    y_trues.append(np.array(y_true))\n",
        "    acc = np.sum(y_trues[-1] == y_preds[-1]) / len(y_trues[-1])\n",
        "    print(f'Fold {fold + 1} Accuracy : {acc}')"
      ],
      "execution_count": 5,
      "outputs": [
        {
          "output_type": "display_data",
          "data": {
            "application/vnd.jupyter.widget-view+json": {
              "model_id": "c5ea2ffe475142f5aece11885f61e481",
              "version_minor": 0,
              "version_major": 2
            },
            "text/plain": [
              "HBox(children=(FloatProgress(value=0.0, max=11468.0), HTML(value='')))"
            ]
          },
          "metadata": {
            "tags": []
          }
        },
        {
          "output_type": "stream",
          "text": [
            "\n",
            "Fold 1 Accuracy : 0.9324831885591853\n"
          ],
          "name": "stdout"
        },
        {
          "output_type": "display_data",
          "data": {
            "application/vnd.jupyter.widget-view+json": {
              "model_id": "e20ace87b53549168b7c5f006f1cd496",
              "version_minor": 0,
              "version_major": 2
            },
            "text/plain": [
              "HBox(children=(FloatProgress(value=0.0, max=11468.0), HTML(value='')))"
            ]
          },
          "metadata": {
            "tags": []
          }
        },
        {
          "output_type": "stream",
          "text": [
            "\n",
            "Fold 2 Accuracy : 0.9314157287860684\n"
          ],
          "name": "stdout"
        },
        {
          "output_type": "display_data",
          "data": {
            "application/vnd.jupyter.widget-view+json": {
              "model_id": "0ec429081a5c4d1d9c11d79bd468706b",
              "version_minor": 0,
              "version_major": 2
            },
            "text/plain": [
              "HBox(children=(FloatProgress(value=0.0, max=11468.0), HTML(value='')))"
            ]
          },
          "metadata": {
            "tags": []
          }
        },
        {
          "output_type": "stream",
          "text": [
            "\n",
            "Fold 3 Accuracy : 0.9306072404224656\n"
          ],
          "name": "stdout"
        },
        {
          "output_type": "display_data",
          "data": {
            "application/vnd.jupyter.widget-view+json": {
              "model_id": "1be0b853e1f94f3381d7c4fb712feee5",
              "version_minor": 0,
              "version_major": 2
            },
            "text/plain": [
              "HBox(children=(FloatProgress(value=0.0, max=11468.0), HTML(value='')))"
            ]
          },
          "metadata": {
            "tags": []
          }
        },
        {
          "output_type": "stream",
          "text": [
            "\n",
            "Fold 4 Accuracy : 0.9315513257689632\n"
          ],
          "name": "stdout"
        },
        {
          "output_type": "display_data",
          "data": {
            "application/vnd.jupyter.widget-view+json": {
              "model_id": "34fcbb575a4c498f8b6b72eb2a6e2c11",
              "version_minor": 0,
              "version_major": 2
            },
            "text/plain": [
              "HBox(children=(FloatProgress(value=0.0, max=11468.0), HTML(value='')))"
            ]
          },
          "metadata": {
            "tags": []
          }
        },
        {
          "output_type": "stream",
          "text": [
            "\n",
            "Fold 5 Accuracy : 0.9318636063422446\n"
          ],
          "name": "stdout"
        }
      ]
    },
    {
      "cell_type": "code",
      "metadata": {
        "id": "hqoaWvvImspV",
        "colab_type": "code",
        "colab": {}
      },
      "source": [
        "# metrics start here\n",
        "def get_report(y_true, y_pred, classes):\n",
        "    clf_report = classification_report(y_true, y_pred, labels=classes, zero_division=0)\n",
        "    clf_report = clf_report.replace('\\n\\n', '\\n')\n",
        "    clf_report = clf_report.replace('macro avg', 'macro_avg')\n",
        "    clf_report = clf_report.replace('micro avg', 'micro_avg')\n",
        "    clf_report = clf_report.replace('weighted avg', 'weighted_avg')\n",
        "    clf_report = clf_report.replace(' / ', '/')\n",
        "    lines = clf_report.split('\\n')\n",
        "\n",
        "    class_names, plotMat, support = [], [], []\n",
        "    for line in lines[1:]:\n",
        "        t = line.strip().split()\n",
        "        if len(t) < 2:\n",
        "            continue\n",
        "        v = [float(x) for x in t[1: len(t) - 1]]\n",
        "        if len(v) == 1 : v = v * 3\n",
        "        support.append(int(t[-1]))\n",
        "        class_names.append(t[0])\n",
        "        plotMat.append(v)\n",
        "    plotMat = np.array(plotMat)\n",
        "    support = np.array(support)\n",
        "    return class_names, plotMat, support\n",
        "\n",
        "def get_scores(y_true, y_pred, classes):\n",
        "    correct, wrong = {}, {}\n",
        "    for tag in classes:\n",
        "        correct[tag] = 0\n",
        "        wrong[tag] = 0\n",
        "        \n",
        "    for tag, pred in zip(y_true, y_pred):\n",
        "        if tag in correct and tag == pred:\n",
        "            correct[tag] += 1\n",
        "        elif tag in wrong:\n",
        "            wrong[tag] += 1\n",
        "            \n",
        "    scores = []\n",
        "    total = len(y_true)\n",
        "    for tag in classes:\n",
        "        cur = np.array([correct[tag], wrong[tag]])\n",
        "        scores.append(cur / total)\n",
        "    return np.array(scores)\n",
        "    \n",
        "def plot_confusion_matrix(classes, mat, normalize=True, cmap=plt.cm.Blues):\n",
        "    cm = np.copy(mat)\n",
        "    title = 'Confusion Matrix (without normalization)'\n",
        "    if normalize:\n",
        "        cm = cm.astype('float') / np.sum(cm, axis=1, keepdims=True)\n",
        "        title = title.replace('without', 'with')\n",
        "    plt.clf()    \n",
        "    fig, ax = plt.subplots(figsize=(20,10))\n",
        "    ax.set_title(title, y=-0.06, fontsize=22)\n",
        "    ax.xaxis.set_ticks_position('top')\n",
        "    ax.xaxis.set_label_position('top')\n",
        "    plt.imshow(cm, interpolation='nearest', cmap=cmap)\n",
        "    plt.colorbar()\n",
        "    tick_marks = np.arange(len(classes))\n",
        "    plt.xticks(tick_marks, classes, rotation=45)\n",
        "    plt.yticks(tick_marks, classes)\n",
        "    fmt = '.2f' if normalize else 'd'\n",
        "    thresh = np.max(cm) / 2\n",
        "    for i in range(cm.shape[0]):\n",
        "        for j in range(cm.shape[1]):\n",
        "            color = \"white\" if (cm[i, j] > thresh) else \"black\"\n",
        "            plt.text(j, i, format(cm[i, j], fmt), horizontalalignment=\"center\", color=color)\n",
        "    plt.ylabel('True label',fontsize=22)\n",
        "    plt.xlabel('Predicted label', fontsize=22)\n",
        "    plt.tight_layout()\n",
        "    plt.savefig('confusion_matrix.png', bbox_inches=\"tight\", transparent=True)\n",
        "    \n",
        "def plot_clf_report(classes, plotMat, support, cmap=plt.cm.Blues):\n",
        "    title = 'Classification Report'\n",
        "    xticklabels = ['Precision', 'Recall', 'F1-score']\n",
        "    yticklabels = ['{0} ({1})'.format(classes[idx], sup) for idx, sup in enumerate(support)]\n",
        "    plt.clf()\n",
        "    fig, ax = plt.subplots(figsize=(20,10))\n",
        "    ax.set_title(title, y=-0.06, fontsize=22)\n",
        "    ax.xaxis.set_ticks_position('top')\n",
        "    ax.xaxis.set_label_position('top')\n",
        "    ax.xaxis.set_tick_params(labelsize=18)\n",
        "    ax.yaxis.set_tick_params(labelsize=14)\n",
        "    plt.imshow(plotMat, interpolation='nearest', cmap=cmap, aspect='auto')\n",
        "    plt.colorbar()\n",
        "    plt.xticks(np.arange(3), xticklabels, rotation=0)\n",
        "    plt.yticks(np.arange(len(classes)), yticklabels)\n",
        "\n",
        "    thresh = np.max(plotMat) / 2\n",
        "    for i in range(plotMat.shape[0]):\n",
        "        for j in range(plotMat.shape[1]):\n",
        "            color = \"white\" if (plotMat[i, j] > thresh) else \"black\"\n",
        "            plt.text(j, i, format(plotMat[i, j], '.2f'), horizontalalignment=\"center\", color=color, fontsize=14)\n",
        "\n",
        "    plt.xlabel('Metrics',fontsize=22)\n",
        "    plt.ylabel('Classes',fontsize=22)\n",
        "    plt.tight_layout()\n",
        "    plt.savefig('classification_report.png', bbox_inches=\"tight\", transparent=True)\n",
        "    \n",
        "def plot_tag_scores(classes, scores, normalize=True):\n",
        "    plt.clf()\n",
        "    width = 0.45\n",
        "    fig, ax = plt.subplots(figsize=(20,10))\n",
        "    ax.xaxis.set_tick_params(labelsize=18, rotation=25)\n",
        "    ax.yaxis.set_tick_params(labelsize=18)\n",
        "    range_bar1 = np.arange(len(classes))\n",
        "    rects1 = ax.bar(range_bar1, tuple(scores[:, 0]), width, color='b')\n",
        "    rects2 = ax.bar(range_bar1 + width, tuple(scores[:, 1]), width, color='r')\n",
        "\n",
        "    ax.set_ylabel('Scores',fontsize=22)\n",
        "    ax.set_title('Tag scores', fontsize=22)\n",
        "    ax.set_xticks(range_bar1 + width / 2)\n",
        "    ax.set_xticklabels(classes)\n",
        "\n",
        "    ax.legend((rects1[0], rects2[0]), ('Correct', 'Wrong'), fontsize=20)\n",
        "    plt.legend()\n",
        "    plt.savefig('tag_scores.png', bbox_inches=\"tight\", transparent=True)\n",
        "    plt.show()"
      ],
      "execution_count": 13,
      "outputs": []
    },
    {
      "cell_type": "code",
      "metadata": {
        "id": "vAZJ6zB818GX",
        "colab_type": "code",
        "colab": {
          "base_uri": "https://localhost:8080/",
          "height": 35
        },
        "outputId": "2a58d37a-b78b-4f4b-b64d-17a5fa9aaa80"
      },
      "source": [
        "tagset = list(hmm_models[-1].pos_counts.keys())\n",
        "tagset.remove(start_token)\n",
        "tagset.remove(end_token)\n",
        "tagset = sorted(tagset)\n",
        "print(tagset)"
      ],
      "execution_count": 14,
      "outputs": [
        {
          "output_type": "stream",
          "text": [
            "['.', 'ADJ', 'ADP', 'ADV', 'CONJ', 'DET', 'NOUN', 'NUM', 'PRON', 'PRT', 'VERB', 'X']\n"
          ],
          "name": "stdout"
        }
      ]
    },
    {
      "cell_type": "code",
      "metadata": {
        "id": "0fCYtlk33dXM",
        "colab_type": "code",
        "colab": {}
      },
      "source": [
        "classes = tagset\n",
        "class_names = None\n",
        "report = None\n",
        "support = None\n",
        "cm, scores = None, None\n",
        "cnt = 0\n",
        "for y_true, y_pred in zip(y_trues, y_preds):\n",
        "    class_names, report_, support_ = get_report(y_true, y_pred, classes)\n",
        "    cm_ = confusion_matrix(y_true, y_pred, labels=classes)\n",
        "    scores_ = get_scores(y_true, y_pred, classes)\n",
        "    \n",
        "    if report is None : report = np.zeros_like(report_, dtype=np.float64)\n",
        "    report += report_\n",
        "    \n",
        "    if support is None : support = np.zeros_like(support_, dtype=np.float64)\n",
        "    support += support_\n",
        "    \n",
        "    if cm is None : cm = np.zeros_like(cm_, dtype=np.float64)\n",
        "    cm += cm_\n",
        "    \n",
        "    if scores is None : scores = np.zeros_like(scores_, dtype=np.float64)\n",
        "    scores += scores_\n",
        "    \n",
        "    cnt += 1\n",
        "    \n",
        "report /= cnt\n",
        "support /= cnt\n",
        "cm /= cnt\n",
        "scores /= cnt"
      ],
      "execution_count": 15,
      "outputs": []
    },
    {
      "cell_type": "code",
      "metadata": {
        "id": "z2haBZK98mgr",
        "colab_type": "code",
        "colab": {
          "base_uri": "https://localhost:8080/",
          "height": 752
        },
        "outputId": "7cc9d3cf-905b-4be8-e203-70f9d73dfbd5"
      },
      "source": [
        "plot_clf_report(class_names, report, support)"
      ],
      "execution_count": 16,
      "outputs": [
        {
          "output_type": "display_data",
          "data": {
            "text/plain": [
              "<Figure size 432x288 with 0 Axes>"
            ]
          },
          "metadata": {
            "tags": []
          }
        },
        {
          "output_type": "display_data",
          "data": {
            "image/png": "[encoded data removed]",
            "text/plain": [
              "<Figure size 1440x720 with 2 Axes>"
            ]
          },
          "metadata": {
            "tags": [],
            "needs_background": "light"
          }
        }
      ]
    },
    {
      "cell_type": "code",
      "metadata": {
        "id": "pM8h-qYZ8518",
        "colab_type": "code",
        "colab": {
          "base_uri": "https://localhost:8080/",
          "height": 751
        },
        "outputId": "a2ab2fcb-1747-4b66-e09a-6df2c3667aa6"
      },
      "source": [
        "plot_confusion_matrix(classes, cm)"
      ],
      "execution_count": 17,
      "outputs": [
        {
          "output_type": "display_data",
          "data": {
            "text/plain": [
              "<Figure size 432x288 with 0 Axes>"
            ]
          },
          "metadata": {
            "tags": []
          }
        },
        {
          "output_type": "display_data",
          "data": {
            "image/png": "[encoded data removed]",
            "text/plain": [
              "<Figure size 1440x720 with 2 Axes>"
            ]
          },
          "metadata": {
            "tags": [],
            "needs_background": "light"
          }
        }
      ]
    },
    {
      "cell_type": "code",
      "metadata": {
        "id": "Sd0NGCwB8_0C",
        "colab_type": "code",
        "colab": {
          "base_uri": "https://localhost:8080/",
          "height": 679
        },
        "outputId": "6f9d1274-d8b0-4400-ad3b-81e626c34acd"
      },
      "source": [
        "plot_tag_scores(classes, scores)"
      ],
      "execution_count": 18,
      "outputs": [
        {
          "output_type": "stream",
          "text": [
            "No handles with labels found to put in legend.\n"
          ],
          "name": "stderr"
        },
        {
          "output_type": "display_data",
          "data": {
            "text/plain": [
              "<Figure size 432x288 with 0 Axes>"
            ]
          },
          "metadata": {
            "tags": []
          }
        },
        {
          "output_type": "display_data",
          "data": {
            "image/png": "[encoded data removed]",
            "text/plain": [
              "<Figure size 1440x720 with 1 Axes>"
            ]
          },
          "metadata": {
            "tags": [],
            "needs_background": "light"
          }
        }
      ]
    },
    {
      "cell_type": "code",
      "metadata": {
        "id": "L4pyekJ15B1F",
        "colab_type": "code",
        "colab": {}
      },
      "source": [
        ""
      ],
      "execution_count": null,
      "outputs": []
    }
  ]
}